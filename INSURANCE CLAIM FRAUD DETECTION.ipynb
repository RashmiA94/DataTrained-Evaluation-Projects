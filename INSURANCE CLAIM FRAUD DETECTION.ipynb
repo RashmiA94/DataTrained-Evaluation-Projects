{
 "cells": [
  {
   "cell_type": "markdown",
   "metadata": {},
   "source": [
    "# INSURANCE CLAIM FRAUD DETECTION PROJECT"
   ]
  },
  {
   "cell_type": "markdown",
   "metadata": {},
   "source": [
    "### Exploratory Data Analysis"
   ]
  },
  {
   "cell_type": "markdown",
   "metadata": {},
   "source": [
    "Importing Libraries for EDA"
   ]
  },
  {
   "cell_type": "code",
   "execution_count": 1,
   "metadata": {},
   "outputs": [],
   "source": [
    "import pandas as pd\n",
    "import numpy as np\n",
    "import seaborn as sns\n",
    "import matplotlib.pyplot as plt\n",
    "import warnings\n",
    "warnings.filterwarnings('ignore')"
   ]
  },
  {
   "cell_type": "markdown",
   "metadata": {},
   "source": [
    "Importing the dataset"
   ]
  },
  {
   "cell_type": "code",
   "execution_count": 2,
   "metadata": {},
   "outputs": [],
   "source": [
    "df=pd.read_csv('Insurance_Claim.csv')"
   ]
  },
  {
   "cell_type": "markdown",
   "metadata": {},
   "source": [
    "First 5 entries"
   ]
  },
  {
   "cell_type": "code",
   "execution_count": 3,
   "metadata": {},
   "outputs": [
    {
     "data": {
      "text/html": [
       "<div>\n",
       "<style scoped>\n",
       "    .dataframe tbody tr th:only-of-type {\n",
       "        vertical-align: middle;\n",
       "    }\n",
       "\n",
       "    .dataframe tbody tr th {\n",
       "        vertical-align: top;\n",
       "    }\n",
       "\n",
       "    .dataframe thead th {\n",
       "        text-align: right;\n",
       "    }\n",
       "</style>\n",
       "<table border=\"1\" class=\"dataframe\">\n",
       "  <thead>\n",
       "    <tr style=\"text-align: right;\">\n",
       "      <th></th>\n",
       "      <th>months_as_customer</th>\n",
       "      <th>age</th>\n",
       "      <th>policy_number</th>\n",
       "      <th>policy_bind_date</th>\n",
       "      <th>policy_state</th>\n",
       "      <th>policy_csl</th>\n",
       "      <th>policy_deductable</th>\n",
       "      <th>policy_annual_premium</th>\n",
       "      <th>umbrella_limit</th>\n",
       "      <th>insured_zip</th>\n",
       "      <th>insured_sex</th>\n",
       "      <th>insured_education_level</th>\n",
       "      <th>insured_occupation</th>\n",
       "      <th>insured_hobbies</th>\n",
       "      <th>insured_relationship</th>\n",
       "      <th>capital-gains</th>\n",
       "      <th>capital-loss</th>\n",
       "      <th>incident_date</th>\n",
       "      <th>incident_type</th>\n",
       "      <th>collision_type</th>\n",
       "      <th>incident_severity</th>\n",
       "      <th>authorities_contacted</th>\n",
       "      <th>incident_state</th>\n",
       "      <th>incident_city</th>\n",
       "      <th>incident_location</th>\n",
       "      <th>incident_hour_of_the_day</th>\n",
       "      <th>number_of_vehicles_involved</th>\n",
       "      <th>property_damage</th>\n",
       "      <th>bodily_injuries</th>\n",
       "      <th>witnesses</th>\n",
       "      <th>police_report_available</th>\n",
       "      <th>total_claim_amount</th>\n",
       "      <th>injury_claim</th>\n",
       "      <th>property_claim</th>\n",
       "      <th>vehicle_claim</th>\n",
       "      <th>auto_make</th>\n",
       "      <th>auto_model</th>\n",
       "      <th>auto_year</th>\n",
       "      <th>fraud_reported</th>\n",
       "      <th>_c39</th>\n",
       "    </tr>\n",
       "  </thead>\n",
       "  <tbody>\n",
       "    <tr>\n",
       "      <th>0</th>\n",
       "      <td>328</td>\n",
       "      <td>48</td>\n",
       "      <td>521585</td>\n",
       "      <td>17-10-2014</td>\n",
       "      <td>OH</td>\n",
       "      <td>250/500</td>\n",
       "      <td>1000</td>\n",
       "      <td>1406.91</td>\n",
       "      <td>0</td>\n",
       "      <td>466132</td>\n",
       "      <td>MALE</td>\n",
       "      <td>MD</td>\n",
       "      <td>craft-repair</td>\n",
       "      <td>sleeping</td>\n",
       "      <td>husband</td>\n",
       "      <td>53300</td>\n",
       "      <td>0</td>\n",
       "      <td>25-01-2015</td>\n",
       "      <td>Single Vehicle Collision</td>\n",
       "      <td>Side Collision</td>\n",
       "      <td>Major Damage</td>\n",
       "      <td>Police</td>\n",
       "      <td>SC</td>\n",
       "      <td>Columbus</td>\n",
       "      <td>9935 4th Drive</td>\n",
       "      <td>5</td>\n",
       "      <td>1</td>\n",
       "      <td>YES</td>\n",
       "      <td>1</td>\n",
       "      <td>2</td>\n",
       "      <td>YES</td>\n",
       "      <td>71610</td>\n",
       "      <td>6510</td>\n",
       "      <td>13020</td>\n",
       "      <td>52080</td>\n",
       "      <td>Saab</td>\n",
       "      <td>92x</td>\n",
       "      <td>2004</td>\n",
       "      <td>Y</td>\n",
       "      <td>NaN</td>\n",
       "    </tr>\n",
       "    <tr>\n",
       "      <th>1</th>\n",
       "      <td>228</td>\n",
       "      <td>42</td>\n",
       "      <td>342868</td>\n",
       "      <td>27-06-2006</td>\n",
       "      <td>IN</td>\n",
       "      <td>250/500</td>\n",
       "      <td>2000</td>\n",
       "      <td>1197.22</td>\n",
       "      <td>5000000</td>\n",
       "      <td>468176</td>\n",
       "      <td>MALE</td>\n",
       "      <td>MD</td>\n",
       "      <td>machine-op-inspct</td>\n",
       "      <td>reading</td>\n",
       "      <td>other-relative</td>\n",
       "      <td>0</td>\n",
       "      <td>0</td>\n",
       "      <td>21-01-2015</td>\n",
       "      <td>Vehicle Theft</td>\n",
       "      <td>?</td>\n",
       "      <td>Minor Damage</td>\n",
       "      <td>Police</td>\n",
       "      <td>VA</td>\n",
       "      <td>Riverwood</td>\n",
       "      <td>6608 MLK Hwy</td>\n",
       "      <td>8</td>\n",
       "      <td>1</td>\n",
       "      <td>?</td>\n",
       "      <td>0</td>\n",
       "      <td>0</td>\n",
       "      <td>?</td>\n",
       "      <td>5070</td>\n",
       "      <td>780</td>\n",
       "      <td>780</td>\n",
       "      <td>3510</td>\n",
       "      <td>Mercedes</td>\n",
       "      <td>E400</td>\n",
       "      <td>2007</td>\n",
       "      <td>Y</td>\n",
       "      <td>NaN</td>\n",
       "    </tr>\n",
       "    <tr>\n",
       "      <th>2</th>\n",
       "      <td>134</td>\n",
       "      <td>29</td>\n",
       "      <td>687698</td>\n",
       "      <td>06-09-2000</td>\n",
       "      <td>OH</td>\n",
       "      <td>100/300</td>\n",
       "      <td>2000</td>\n",
       "      <td>1413.14</td>\n",
       "      <td>5000000</td>\n",
       "      <td>430632</td>\n",
       "      <td>FEMALE</td>\n",
       "      <td>PhD</td>\n",
       "      <td>sales</td>\n",
       "      <td>board-games</td>\n",
       "      <td>own-child</td>\n",
       "      <td>35100</td>\n",
       "      <td>0</td>\n",
       "      <td>22-02-2015</td>\n",
       "      <td>Multi-vehicle Collision</td>\n",
       "      <td>Rear Collision</td>\n",
       "      <td>Minor Damage</td>\n",
       "      <td>Police</td>\n",
       "      <td>NY</td>\n",
       "      <td>Columbus</td>\n",
       "      <td>7121 Francis Lane</td>\n",
       "      <td>7</td>\n",
       "      <td>3</td>\n",
       "      <td>NO</td>\n",
       "      <td>2</td>\n",
       "      <td>3</td>\n",
       "      <td>NO</td>\n",
       "      <td>34650</td>\n",
       "      <td>7700</td>\n",
       "      <td>3850</td>\n",
       "      <td>23100</td>\n",
       "      <td>Dodge</td>\n",
       "      <td>RAM</td>\n",
       "      <td>2007</td>\n",
       "      <td>N</td>\n",
       "      <td>NaN</td>\n",
       "    </tr>\n",
       "    <tr>\n",
       "      <th>3</th>\n",
       "      <td>256</td>\n",
       "      <td>41</td>\n",
       "      <td>227811</td>\n",
       "      <td>25-05-1990</td>\n",
       "      <td>IL</td>\n",
       "      <td>250/500</td>\n",
       "      <td>2000</td>\n",
       "      <td>1415.74</td>\n",
       "      <td>6000000</td>\n",
       "      <td>608117</td>\n",
       "      <td>FEMALE</td>\n",
       "      <td>PhD</td>\n",
       "      <td>armed-forces</td>\n",
       "      <td>board-games</td>\n",
       "      <td>unmarried</td>\n",
       "      <td>48900</td>\n",
       "      <td>-62400</td>\n",
       "      <td>10-01-2015</td>\n",
       "      <td>Single Vehicle Collision</td>\n",
       "      <td>Front Collision</td>\n",
       "      <td>Major Damage</td>\n",
       "      <td>Police</td>\n",
       "      <td>OH</td>\n",
       "      <td>Arlington</td>\n",
       "      <td>6956 Maple Drive</td>\n",
       "      <td>5</td>\n",
       "      <td>1</td>\n",
       "      <td>?</td>\n",
       "      <td>1</td>\n",
       "      <td>2</td>\n",
       "      <td>NO</td>\n",
       "      <td>63400</td>\n",
       "      <td>6340</td>\n",
       "      <td>6340</td>\n",
       "      <td>50720</td>\n",
       "      <td>Chevrolet</td>\n",
       "      <td>Tahoe</td>\n",
       "      <td>2014</td>\n",
       "      <td>Y</td>\n",
       "      <td>NaN</td>\n",
       "    </tr>\n",
       "    <tr>\n",
       "      <th>4</th>\n",
       "      <td>228</td>\n",
       "      <td>44</td>\n",
       "      <td>367455</td>\n",
       "      <td>06-06-2014</td>\n",
       "      <td>IL</td>\n",
       "      <td>500/1000</td>\n",
       "      <td>1000</td>\n",
       "      <td>1583.91</td>\n",
       "      <td>6000000</td>\n",
       "      <td>610706</td>\n",
       "      <td>MALE</td>\n",
       "      <td>Associate</td>\n",
       "      <td>sales</td>\n",
       "      <td>board-games</td>\n",
       "      <td>unmarried</td>\n",
       "      <td>66000</td>\n",
       "      <td>-46000</td>\n",
       "      <td>17-02-2015</td>\n",
       "      <td>Vehicle Theft</td>\n",
       "      <td>?</td>\n",
       "      <td>Minor Damage</td>\n",
       "      <td>None</td>\n",
       "      <td>NY</td>\n",
       "      <td>Arlington</td>\n",
       "      <td>3041 3rd Ave</td>\n",
       "      <td>20</td>\n",
       "      <td>1</td>\n",
       "      <td>NO</td>\n",
       "      <td>0</td>\n",
       "      <td>1</td>\n",
       "      <td>NO</td>\n",
       "      <td>6500</td>\n",
       "      <td>1300</td>\n",
       "      <td>650</td>\n",
       "      <td>4550</td>\n",
       "      <td>Accura</td>\n",
       "      <td>RSX</td>\n",
       "      <td>2009</td>\n",
       "      <td>N</td>\n",
       "      <td>NaN</td>\n",
       "    </tr>\n",
       "  </tbody>\n",
       "</table>\n",
       "</div>"
      ],
      "text/plain": [
       "   months_as_customer  age  policy_number policy_bind_date policy_state  \\\n",
       "0                 328   48         521585       17-10-2014           OH   \n",
       "1                 228   42         342868       27-06-2006           IN   \n",
       "2                 134   29         687698       06-09-2000           OH   \n",
       "3                 256   41         227811       25-05-1990           IL   \n",
       "4                 228   44         367455       06-06-2014           IL   \n",
       "\n",
       "  policy_csl  policy_deductable  policy_annual_premium  umbrella_limit  \\\n",
       "0    250/500               1000                1406.91               0   \n",
       "1    250/500               2000                1197.22         5000000   \n",
       "2    100/300               2000                1413.14         5000000   \n",
       "3    250/500               2000                1415.74         6000000   \n",
       "4   500/1000               1000                1583.91         6000000   \n",
       "\n",
       "   insured_zip insured_sex insured_education_level insured_occupation  \\\n",
       "0       466132        MALE                      MD       craft-repair   \n",
       "1       468176        MALE                      MD  machine-op-inspct   \n",
       "2       430632      FEMALE                     PhD              sales   \n",
       "3       608117      FEMALE                     PhD       armed-forces   \n",
       "4       610706        MALE               Associate              sales   \n",
       "\n",
       "  insured_hobbies insured_relationship  capital-gains  capital-loss  \\\n",
       "0        sleeping              husband          53300             0   \n",
       "1         reading       other-relative              0             0   \n",
       "2     board-games            own-child          35100             0   \n",
       "3     board-games            unmarried          48900        -62400   \n",
       "4     board-games            unmarried          66000        -46000   \n",
       "\n",
       "  incident_date             incident_type   collision_type incident_severity  \\\n",
       "0    25-01-2015  Single Vehicle Collision   Side Collision      Major Damage   \n",
       "1    21-01-2015             Vehicle Theft                ?      Minor Damage   \n",
       "2    22-02-2015   Multi-vehicle Collision   Rear Collision      Minor Damage   \n",
       "3    10-01-2015  Single Vehicle Collision  Front Collision      Major Damage   \n",
       "4    17-02-2015             Vehicle Theft                ?      Minor Damage   \n",
       "\n",
       "  authorities_contacted incident_state incident_city  incident_location  \\\n",
       "0                Police             SC      Columbus     9935 4th Drive   \n",
       "1                Police             VA     Riverwood       6608 MLK Hwy   \n",
       "2                Police             NY      Columbus  7121 Francis Lane   \n",
       "3                Police             OH     Arlington   6956 Maple Drive   \n",
       "4                  None             NY     Arlington       3041 3rd Ave   \n",
       "\n",
       "   incident_hour_of_the_day  number_of_vehicles_involved property_damage  \\\n",
       "0                         5                            1             YES   \n",
       "1                         8                            1               ?   \n",
       "2                         7                            3              NO   \n",
       "3                         5                            1               ?   \n",
       "4                        20                            1              NO   \n",
       "\n",
       "   bodily_injuries  witnesses police_report_available  total_claim_amount  \\\n",
       "0                1          2                     YES               71610   \n",
       "1                0          0                       ?                5070   \n",
       "2                2          3                      NO               34650   \n",
       "3                1          2                      NO               63400   \n",
       "4                0          1                      NO                6500   \n",
       "\n",
       "   injury_claim  property_claim  vehicle_claim  auto_make auto_model  \\\n",
       "0          6510           13020          52080       Saab        92x   \n",
       "1           780             780           3510   Mercedes       E400   \n",
       "2          7700            3850          23100      Dodge        RAM   \n",
       "3          6340            6340          50720  Chevrolet      Tahoe   \n",
       "4          1300             650           4550     Accura        RSX   \n",
       "\n",
       "   auto_year fraud_reported  _c39  \n",
       "0       2004              Y   NaN  \n",
       "1       2007              Y   NaN  \n",
       "2       2007              N   NaN  \n",
       "3       2014              Y   NaN  \n",
       "4       2009              N   NaN  "
      ]
     },
     "execution_count": 3,
     "metadata": {},
     "output_type": "execute_result"
    }
   ],
   "source": [
    "pd.pandas.set_option('display.max_columns',None)\n",
    "df.head()"
   ]
  },
  {
   "cell_type": "code",
   "execution_count": 4,
   "metadata": {},
   "outputs": [
    {
     "data": {
      "text/plain": [
       "(1000, 40)"
      ]
     },
     "execution_count": 4,
     "metadata": {},
     "output_type": "execute_result"
    }
   ],
   "source": [
    "df.shape"
   ]
  },
  {
   "cell_type": "markdown",
   "metadata": {},
   "source": [
    "The dataset contains 1000 rows and 40 columns"
   ]
  },
  {
   "cell_type": "markdown",
   "metadata": {},
   "source": [
    "Datatype of the features"
   ]
  },
  {
   "cell_type": "code",
   "execution_count": 5,
   "metadata": {},
   "outputs": [
    {
     "data": {
      "text/plain": [
       "months_as_customer               int64\n",
       "age                              int64\n",
       "policy_number                    int64\n",
       "policy_bind_date                object\n",
       "policy_state                    object\n",
       "policy_csl                      object\n",
       "policy_deductable                int64\n",
       "policy_annual_premium          float64\n",
       "umbrella_limit                   int64\n",
       "insured_zip                      int64\n",
       "insured_sex                     object\n",
       "insured_education_level         object\n",
       "insured_occupation              object\n",
       "insured_hobbies                 object\n",
       "insured_relationship            object\n",
       "capital-gains                    int64\n",
       "capital-loss                     int64\n",
       "incident_date                   object\n",
       "incident_type                   object\n",
       "collision_type                  object\n",
       "incident_severity               object\n",
       "authorities_contacted           object\n",
       "incident_state                  object\n",
       "incident_city                   object\n",
       "incident_location               object\n",
       "incident_hour_of_the_day         int64\n",
       "number_of_vehicles_involved      int64\n",
       "property_damage                 object\n",
       "bodily_injuries                  int64\n",
       "witnesses                        int64\n",
       "police_report_available         object\n",
       "total_claim_amount               int64\n",
       "injury_claim                     int64\n",
       "property_claim                   int64\n",
       "vehicle_claim                    int64\n",
       "auto_make                       object\n",
       "auto_model                      object\n",
       "auto_year                        int64\n",
       "fraud_reported                  object\n",
       "_c39                           float64\n",
       "dtype: object"
      ]
     },
     "execution_count": 5,
     "metadata": {},
     "output_type": "execute_result"
    }
   ],
   "source": [
    "df.dtypes"
   ]
  },
  {
   "cell_type": "markdown",
   "metadata": {},
   "source": [
    "Column Names"
   ]
  },
  {
   "cell_type": "code",
   "execution_count": 6,
   "metadata": {},
   "outputs": [
    {
     "data": {
      "text/plain": [
       "Index(['months_as_customer', 'age', 'policy_number', 'policy_bind_date',\n",
       "       'policy_state', 'policy_csl', 'policy_deductable',\n",
       "       'policy_annual_premium', 'umbrella_limit', 'insured_zip', 'insured_sex',\n",
       "       'insured_education_level', 'insured_occupation', 'insured_hobbies',\n",
       "       'insured_relationship', 'capital-gains', 'capital-loss',\n",
       "       'incident_date', 'incident_type', 'collision_type', 'incident_severity',\n",
       "       'authorities_contacted', 'incident_state', 'incident_city',\n",
       "       'incident_location', 'incident_hour_of_the_day',\n",
       "       'number_of_vehicles_involved', 'property_damage', 'bodily_injuries',\n",
       "       'witnesses', 'police_report_available', 'total_claim_amount',\n",
       "       'injury_claim', 'property_claim', 'vehicle_claim', 'auto_make',\n",
       "       'auto_model', 'auto_year', 'fraud_reported', '_c39'],\n",
       "      dtype='object')"
      ]
     },
     "execution_count": 6,
     "metadata": {},
     "output_type": "execute_result"
    }
   ],
   "source": [
    "df.columns"
   ]
  },
  {
   "cell_type": "markdown",
   "metadata": {},
   "source": [
    "Information about the features"
   ]
  },
  {
   "cell_type": "code",
   "execution_count": 7,
   "metadata": {},
   "outputs": [
    {
     "name": "stdout",
     "output_type": "stream",
     "text": [
      "<class 'pandas.core.frame.DataFrame'>\n",
      "RangeIndex: 1000 entries, 0 to 999\n",
      "Data columns (total 40 columns):\n",
      " #   Column                       Non-Null Count  Dtype  \n",
      "---  ------                       --------------  -----  \n",
      " 0   months_as_customer           1000 non-null   int64  \n",
      " 1   age                          1000 non-null   int64  \n",
      " 2   policy_number                1000 non-null   int64  \n",
      " 3   policy_bind_date             1000 non-null   object \n",
      " 4   policy_state                 1000 non-null   object \n",
      " 5   policy_csl                   1000 non-null   object \n",
      " 6   policy_deductable            1000 non-null   int64  \n",
      " 7   policy_annual_premium        1000 non-null   float64\n",
      " 8   umbrella_limit               1000 non-null   int64  \n",
      " 9   insured_zip                  1000 non-null   int64  \n",
      " 10  insured_sex                  1000 non-null   object \n",
      " 11  insured_education_level      1000 non-null   object \n",
      " 12  insured_occupation           1000 non-null   object \n",
      " 13  insured_hobbies              1000 non-null   object \n",
      " 14  insured_relationship         1000 non-null   object \n",
      " 15  capital-gains                1000 non-null   int64  \n",
      " 16  capital-loss                 1000 non-null   int64  \n",
      " 17  incident_date                1000 non-null   object \n",
      " 18  incident_type                1000 non-null   object \n",
      " 19  collision_type               1000 non-null   object \n",
      " 20  incident_severity            1000 non-null   object \n",
      " 21  authorities_contacted        1000 non-null   object \n",
      " 22  incident_state               1000 non-null   object \n",
      " 23  incident_city                1000 non-null   object \n",
      " 24  incident_location            1000 non-null   object \n",
      " 25  incident_hour_of_the_day     1000 non-null   int64  \n",
      " 26  number_of_vehicles_involved  1000 non-null   int64  \n",
      " 27  property_damage              1000 non-null   object \n",
      " 28  bodily_injuries              1000 non-null   int64  \n",
      " 29  witnesses                    1000 non-null   int64  \n",
      " 30  police_report_available      1000 non-null   object \n",
      " 31  total_claim_amount           1000 non-null   int64  \n",
      " 32  injury_claim                 1000 non-null   int64  \n",
      " 33  property_claim               1000 non-null   int64  \n",
      " 34  vehicle_claim                1000 non-null   int64  \n",
      " 35  auto_make                    1000 non-null   object \n",
      " 36  auto_model                   1000 non-null   object \n",
      " 37  auto_year                    1000 non-null   int64  \n",
      " 38  fraud_reported               1000 non-null   object \n",
      " 39  _c39                         0 non-null      float64\n",
      "dtypes: float64(2), int64(17), object(21)\n",
      "memory usage: 312.6+ KB\n"
     ]
    }
   ],
   "source": [
    "df.info()"
   ]
  },
  {
   "cell_type": "markdown",
   "metadata": {},
   "source": [
    "# Missing Values"
   ]
  },
  {
   "cell_type": "code",
   "execution_count": 8,
   "metadata": {},
   "outputs": [
    {
     "data": {
      "text/plain": [
       "months_as_customer                0\n",
       "age                               0\n",
       "policy_number                     0\n",
       "policy_bind_date                  0\n",
       "policy_state                      0\n",
       "policy_csl                        0\n",
       "policy_deductable                 0\n",
       "policy_annual_premium             0\n",
       "umbrella_limit                    0\n",
       "insured_zip                       0\n",
       "insured_sex                       0\n",
       "insured_education_level           0\n",
       "insured_occupation                0\n",
       "insured_hobbies                   0\n",
       "insured_relationship              0\n",
       "capital-gains                     0\n",
       "capital-loss                      0\n",
       "incident_date                     0\n",
       "incident_type                     0\n",
       "collision_type                    0\n",
       "incident_severity                 0\n",
       "authorities_contacted             0\n",
       "incident_state                    0\n",
       "incident_city                     0\n",
       "incident_location                 0\n",
       "incident_hour_of_the_day          0\n",
       "number_of_vehicles_involved       0\n",
       "property_damage                   0\n",
       "bodily_injuries                   0\n",
       "witnesses                         0\n",
       "police_report_available           0\n",
       "total_claim_amount                0\n",
       "injury_claim                      0\n",
       "property_claim                    0\n",
       "vehicle_claim                     0\n",
       "auto_make                         0\n",
       "auto_model                        0\n",
       "auto_year                         0\n",
       "fraud_reported                    0\n",
       "_c39                           1000\n",
       "dtype: int64"
      ]
     },
     "execution_count": 8,
     "metadata": {},
     "output_type": "execute_result"
    }
   ],
   "source": [
    "df.isnull().sum()"
   ]
  },
  {
   "cell_type": "code",
   "execution_count": 9,
   "metadata": {},
   "outputs": [],
   "source": [
    "df.replace('?',np.nan,inplace=True)"
   ]
  },
  {
   "cell_type": "code",
   "execution_count": 10,
   "metadata": {},
   "outputs": [
    {
     "data": {
      "text/plain": [
       "months_as_customer                0\n",
       "age                               0\n",
       "policy_number                     0\n",
       "policy_bind_date                  0\n",
       "policy_state                      0\n",
       "policy_csl                        0\n",
       "policy_deductable                 0\n",
       "policy_annual_premium             0\n",
       "umbrella_limit                    0\n",
       "insured_zip                       0\n",
       "insured_sex                       0\n",
       "insured_education_level           0\n",
       "insured_occupation                0\n",
       "insured_hobbies                   0\n",
       "insured_relationship              0\n",
       "capital-gains                     0\n",
       "capital-loss                      0\n",
       "incident_date                     0\n",
       "incident_type                     0\n",
       "collision_type                  178\n",
       "incident_severity                 0\n",
       "authorities_contacted             0\n",
       "incident_state                    0\n",
       "incident_city                     0\n",
       "incident_location                 0\n",
       "incident_hour_of_the_day          0\n",
       "number_of_vehicles_involved       0\n",
       "property_damage                 360\n",
       "bodily_injuries                   0\n",
       "witnesses                         0\n",
       "police_report_available         343\n",
       "total_claim_amount                0\n",
       "injury_claim                      0\n",
       "property_claim                    0\n",
       "vehicle_claim                     0\n",
       "auto_make                         0\n",
       "auto_model                        0\n",
       "auto_year                         0\n",
       "fraud_reported                    0\n",
       "_c39                           1000\n",
       "dtype: int64"
      ]
     },
     "execution_count": 10,
     "metadata": {},
     "output_type": "execute_result"
    }
   ],
   "source": [
    "df.isnull().sum()"
   ]
  },
  {
   "cell_type": "code",
   "execution_count": 11,
   "metadata": {},
   "outputs": [
    {
     "data": {
      "text/plain": [
       "<AxesSubplot:>"
      ]
     },
     "execution_count": 11,
     "metadata": {},
     "output_type": "execute_result"
    },
    {
     "data": {
      "image/png": "[encoded data removed]",
      "text/plain": [
       "<Figure size 1080x576 with 2 Axes>"
      ]
     },
     "metadata": {
      "needs_background": "light"
     },
     "output_type": "display_data"
    }
   ],
   "source": [
    "plt.figure(figsize=(15,8))\n",
    "sns.heatmap(df.isnull())"
   ]
  },
  {
   "cell_type": "code",
   "execution_count": 12,
   "metadata": {},
   "outputs": [],
   "source": [
    "df.drop(['_c39'],axis=1,inplace=True)"
   ]
  },
  {
   "cell_type": "code",
   "execution_count": 13,
   "metadata": {},
   "outputs": [],
   "source": [
    "df['collision_type']=df['collision_type'].fillna(df['collision_type'].mode()[0])\n",
    "df['property_damage']=df['property_damage'].fillna(df['property_damage'].mode()[0])\n",
    "df['police_report_available']=df['police_report_available'].fillna(df['police_report_available'].mode()[0])"
   ]
  },
  {
   "cell_type": "code",
   "execution_count": 14,
   "metadata": {},
   "outputs": [
    {
     "data": {
      "text/plain": [
       "months_as_customer             0\n",
       "age                            0\n",
       "policy_number                  0\n",
       "policy_bind_date               0\n",
       "policy_state                   0\n",
       "policy_csl                     0\n",
       "policy_deductable              0\n",
       "policy_annual_premium          0\n",
       "umbrella_limit                 0\n",
       "insured_zip                    0\n",
       "insured_sex                    0\n",
       "insured_education_level        0\n",
       "insured_occupation             0\n",
       "insured_hobbies                0\n",
       "insured_relationship           0\n",
       "capital-gains                  0\n",
       "capital-loss                   0\n",
       "incident_date                  0\n",
       "incident_type                  0\n",
       "collision_type                 0\n",
       "incident_severity              0\n",
       "authorities_contacted          0\n",
       "incident_state                 0\n",
       "incident_city                  0\n",
       "incident_location              0\n",
       "incident_hour_of_the_day       0\n",
       "number_of_vehicles_involved    0\n",
       "property_damage                0\n",
       "bodily_injuries                0\n",
       "witnesses                      0\n",
       "police_report_available        0\n",
       "total_claim_amount             0\n",
       "injury_claim                   0\n",
       "property_claim                 0\n",
       "vehicle_claim                  0\n",
       "auto_make                      0\n",
       "auto_model                     0\n",
       "auto_year                      0\n",
       "fraud_reported                 0\n",
       "dtype: int64"
      ]
     },
     "execution_count": 14,
     "metadata": {},
     "output_type": "execute_result"
    }
   ],
   "source": [
    "df.isnull().sum()"
   ]
  },
  {
   "cell_type": "code",
   "execution_count": 15,
   "metadata": {},
   "outputs": [],
   "source": [
    "df['policy_bind_date']=pd.to_datetime(df['policy_bind_date'])\n",
    "df['Year']=df['policy_bind_date'].dt.year\n",
    "df['Month']=df['policy_bind_date'].dt.month\n",
    "df['Day']=df['policy_bind_date'].dt.day"
   ]
  },
  {
   "cell_type": "code",
   "execution_count": 16,
   "metadata": {},
   "outputs": [],
   "source": [
    "df.drop(['policy_bind_date'],axis=1,inplace=True)"
   ]
  },
  {
   "cell_type": "code",
   "execution_count": 17,
   "metadata": {},
   "outputs": [
    {
     "data": {
      "text/plain": [
       "months_as_customer              391\n",
       "age                              46\n",
       "policy_number                  1000\n",
       "policy_state                      3\n",
       "policy_csl                        3\n",
       "policy_deductable                 3\n",
       "policy_annual_premium           991\n",
       "umbrella_limit                   11\n",
       "insured_zip                     995\n",
       "insured_sex                       2\n",
       "insured_education_level           7\n",
       "insured_occupation               14\n",
       "insured_hobbies                  20\n",
       "insured_relationship              6\n",
       "capital-gains                   338\n",
       "capital-loss                    354\n",
       "incident_date                    60\n",
       "incident_type                     4\n",
       "collision_type                    3\n",
       "incident_severity                 4\n",
       "authorities_contacted             5\n",
       "incident_state                    7\n",
       "incident_city                     7\n",
       "incident_location              1000\n",
       "incident_hour_of_the_day         24\n",
       "number_of_vehicles_involved       4\n",
       "property_damage                   2\n",
       "bodily_injuries                   3\n",
       "witnesses                         4\n",
       "police_report_available           2\n",
       "total_claim_amount              763\n",
       "injury_claim                    638\n",
       "property_claim                  626\n",
       "vehicle_claim                   726\n",
       "auto_make                        14\n",
       "auto_model                       39\n",
       "auto_year                        21\n",
       "fraud_reported                    2\n",
       "Year                             26\n",
       "Month                            12\n",
       "Day                              31\n",
       "dtype: int64"
      ]
     },
     "execution_count": 17,
     "metadata": {},
     "output_type": "execute_result"
    }
   ],
   "source": [
    "df.nunique()"
   ]
  },
  {
   "cell_type": "code",
   "execution_count": 18,
   "metadata": {},
   "outputs": [],
   "source": [
    "#Dropping of unimportant columns\n",
    "df.drop(columns=['policy_number','insured_zip','incident_location'],axis=1,inplace=True)"
   ]
  },
  {
   "cell_type": "markdown",
   "metadata": {},
   "source": [
    "# Statistical Calculation"
   ]
  },
  {
   "cell_type": "code",
   "execution_count": 19,
   "metadata": {},
   "outputs": [
    {
     "data": {
      "text/html": [
       "<div>\n",
       "<style scoped>\n",
       "    .dataframe tbody tr th:only-of-type {\n",
       "        vertical-align: middle;\n",
       "    }\n",
       "\n",
       "    .dataframe tbody tr th {\n",
       "        vertical-align: top;\n",
       "    }\n",
       "\n",
       "    .dataframe thead th {\n",
       "        text-align: right;\n",
       "    }\n",
       "</style>\n",
       "<table border=\"1\" class=\"dataframe\">\n",
       "  <thead>\n",
       "    <tr style=\"text-align: right;\">\n",
       "      <th></th>\n",
       "      <th>months_as_customer</th>\n",
       "      <th>age</th>\n",
       "      <th>policy_deductable</th>\n",
       "      <th>policy_annual_premium</th>\n",
       "      <th>umbrella_limit</th>\n",
       "      <th>capital-gains</th>\n",
       "      <th>capital-loss</th>\n",
       "      <th>incident_hour_of_the_day</th>\n",
       "      <th>number_of_vehicles_involved</th>\n",
       "      <th>bodily_injuries</th>\n",
       "      <th>witnesses</th>\n",
       "      <th>total_claim_amount</th>\n",
       "      <th>injury_claim</th>\n",
       "      <th>property_claim</th>\n",
       "      <th>vehicle_claim</th>\n",
       "      <th>auto_year</th>\n",
       "      <th>Year</th>\n",
       "      <th>Month</th>\n",
       "      <th>Day</th>\n",
       "    </tr>\n",
       "  </thead>\n",
       "  <tbody>\n",
       "    <tr>\n",
       "      <th>count</th>\n",
       "      <td>1000.000000</td>\n",
       "      <td>1000.000000</td>\n",
       "      <td>1000.000000</td>\n",
       "      <td>1000.000000</td>\n",
       "      <td>1.000000e+03</td>\n",
       "      <td>1000.000000</td>\n",
       "      <td>1000.000000</td>\n",
       "      <td>1000.000000</td>\n",
       "      <td>1000.00000</td>\n",
       "      <td>1000.000000</td>\n",
       "      <td>1000.000000</td>\n",
       "      <td>1000.00000</td>\n",
       "      <td>1000.000000</td>\n",
       "      <td>1000.000000</td>\n",
       "      <td>1000.000000</td>\n",
       "      <td>1000.000000</td>\n",
       "      <td>1000.000000</td>\n",
       "      <td>1000.000000</td>\n",
       "      <td>1000.000000</td>\n",
       "    </tr>\n",
       "    <tr>\n",
       "      <th>mean</th>\n",
       "      <td>203.954000</td>\n",
       "      <td>38.948000</td>\n",
       "      <td>1136.000000</td>\n",
       "      <td>1256.406150</td>\n",
       "      <td>1.101000e+06</td>\n",
       "      <td>25126.100000</td>\n",
       "      <td>-26793.700000</td>\n",
       "      <td>11.644000</td>\n",
       "      <td>1.83900</td>\n",
       "      <td>0.992000</td>\n",
       "      <td>1.487000</td>\n",
       "      <td>52761.94000</td>\n",
       "      <td>7433.420000</td>\n",
       "      <td>7399.570000</td>\n",
       "      <td>37928.950000</td>\n",
       "      <td>2005.103000</td>\n",
       "      <td>2001.604000</td>\n",
       "      <td>6.559000</td>\n",
       "      <td>15.448000</td>\n",
       "    </tr>\n",
       "    <tr>\n",
       "      <th>std</th>\n",
       "      <td>115.113174</td>\n",
       "      <td>9.140287</td>\n",
       "      <td>611.864673</td>\n",
       "      <td>244.167395</td>\n",
       "      <td>2.297407e+06</td>\n",
       "      <td>27872.187708</td>\n",
       "      <td>28104.096686</td>\n",
       "      <td>6.951373</td>\n",
       "      <td>1.01888</td>\n",
       "      <td>0.820127</td>\n",
       "      <td>1.111335</td>\n",
       "      <td>26401.53319</td>\n",
       "      <td>4880.951853</td>\n",
       "      <td>4824.726179</td>\n",
       "      <td>18886.252893</td>\n",
       "      <td>6.015861</td>\n",
       "      <td>7.360391</td>\n",
       "      <td>3.391758</td>\n",
       "      <td>8.850176</td>\n",
       "    </tr>\n",
       "    <tr>\n",
       "      <th>min</th>\n",
       "      <td>0.000000</td>\n",
       "      <td>19.000000</td>\n",
       "      <td>500.000000</td>\n",
       "      <td>433.330000</td>\n",
       "      <td>-1.000000e+06</td>\n",
       "      <td>0.000000</td>\n",
       "      <td>-111100.000000</td>\n",
       "      <td>0.000000</td>\n",
       "      <td>1.00000</td>\n",
       "      <td>0.000000</td>\n",
       "      <td>0.000000</td>\n",
       "      <td>100.00000</td>\n",
       "      <td>0.000000</td>\n",
       "      <td>0.000000</td>\n",
       "      <td>70.000000</td>\n",
       "      <td>1995.000000</td>\n",
       "      <td>1990.000000</td>\n",
       "      <td>1.000000</td>\n",
       "      <td>1.000000</td>\n",
       "    </tr>\n",
       "    <tr>\n",
       "      <th>25%</th>\n",
       "      <td>115.750000</td>\n",
       "      <td>32.000000</td>\n",
       "      <td>500.000000</td>\n",
       "      <td>1089.607500</td>\n",
       "      <td>0.000000e+00</td>\n",
       "      <td>0.000000</td>\n",
       "      <td>-51500.000000</td>\n",
       "      <td>6.000000</td>\n",
       "      <td>1.00000</td>\n",
       "      <td>0.000000</td>\n",
       "      <td>1.000000</td>\n",
       "      <td>41812.50000</td>\n",
       "      <td>4295.000000</td>\n",
       "      <td>4445.000000</td>\n",
       "      <td>30292.500000</td>\n",
       "      <td>2000.000000</td>\n",
       "      <td>1995.000000</td>\n",
       "      <td>4.000000</td>\n",
       "      <td>8.000000</td>\n",
       "    </tr>\n",
       "    <tr>\n",
       "      <th>50%</th>\n",
       "      <td>199.500000</td>\n",
       "      <td>38.000000</td>\n",
       "      <td>1000.000000</td>\n",
       "      <td>1257.200000</td>\n",
       "      <td>0.000000e+00</td>\n",
       "      <td>0.000000</td>\n",
       "      <td>-23250.000000</td>\n",
       "      <td>12.000000</td>\n",
       "      <td>1.00000</td>\n",
       "      <td>1.000000</td>\n",
       "      <td>1.000000</td>\n",
       "      <td>58055.00000</td>\n",
       "      <td>6775.000000</td>\n",
       "      <td>6750.000000</td>\n",
       "      <td>42100.000000</td>\n",
       "      <td>2005.000000</td>\n",
       "      <td>2002.000000</td>\n",
       "      <td>7.000000</td>\n",
       "      <td>16.000000</td>\n",
       "    </tr>\n",
       "    <tr>\n",
       "      <th>75%</th>\n",
       "      <td>276.250000</td>\n",
       "      <td>44.000000</td>\n",
       "      <td>2000.000000</td>\n",
       "      <td>1415.695000</td>\n",
       "      <td>0.000000e+00</td>\n",
       "      <td>51025.000000</td>\n",
       "      <td>0.000000</td>\n",
       "      <td>17.000000</td>\n",
       "      <td>3.00000</td>\n",
       "      <td>2.000000</td>\n",
       "      <td>2.000000</td>\n",
       "      <td>70592.50000</td>\n",
       "      <td>11305.000000</td>\n",
       "      <td>10885.000000</td>\n",
       "      <td>50822.500000</td>\n",
       "      <td>2010.000000</td>\n",
       "      <td>2008.000000</td>\n",
       "      <td>9.000000</td>\n",
       "      <td>23.000000</td>\n",
       "    </tr>\n",
       "    <tr>\n",
       "      <th>max</th>\n",
       "      <td>479.000000</td>\n",
       "      <td>64.000000</td>\n",
       "      <td>2000.000000</td>\n",
       "      <td>2047.590000</td>\n",
       "      <td>1.000000e+07</td>\n",
       "      <td>100500.000000</td>\n",
       "      <td>0.000000</td>\n",
       "      <td>23.000000</td>\n",
       "      <td>4.00000</td>\n",
       "      <td>2.000000</td>\n",
       "      <td>3.000000</td>\n",
       "      <td>114920.00000</td>\n",
       "      <td>21450.000000</td>\n",
       "      <td>23670.000000</td>\n",
       "      <td>79560.000000</td>\n",
       "      <td>2015.000000</td>\n",
       "      <td>2015.000000</td>\n",
       "      <td>12.000000</td>\n",
       "      <td>31.000000</td>\n",
       "    </tr>\n",
       "  </tbody>\n",
       "</table>\n",
       "</div>"
      ],
      "text/plain": [
       "       months_as_customer          age  policy_deductable  \\\n",
       "count         1000.000000  1000.000000        1000.000000   \n",
       "mean           203.954000    38.948000        1136.000000   \n",
       "std            115.113174     9.140287         611.864673   \n",
       "min              0.000000    19.000000         500.000000   \n",
       "25%            115.750000    32.000000         500.000000   \n",
       "50%            199.500000    38.000000        1000.000000   \n",
       "75%            276.250000    44.000000        2000.000000   \n",
       "max            479.000000    64.000000        2000.000000   \n",
       "\n",
       "       policy_annual_premium  umbrella_limit  capital-gains   capital-loss  \\\n",
       "count            1000.000000    1.000000e+03    1000.000000    1000.000000   \n",
       "mean             1256.406150    1.101000e+06   25126.100000  -26793.700000   \n",
       "std               244.167395    2.297407e+06   27872.187708   28104.096686   \n",
       "min               433.330000   -1.000000e+06       0.000000 -111100.000000   \n",
       "25%              1089.607500    0.000000e+00       0.000000  -51500.000000   \n",
       "50%              1257.200000    0.000000e+00       0.000000  -23250.000000   \n",
       "75%              1415.695000    0.000000e+00   51025.000000       0.000000   \n",
       "max              2047.590000    1.000000e+07  100500.000000       0.000000   \n",
       "\n",
       "       incident_hour_of_the_day  number_of_vehicles_involved  bodily_injuries  \\\n",
       "count               1000.000000                   1000.00000      1000.000000   \n",
       "mean                  11.644000                      1.83900         0.992000   \n",
       "std                    6.951373                      1.01888         0.820127   \n",
       "min                    0.000000                      1.00000         0.000000   \n",
       "25%                    6.000000                      1.00000         0.000000   \n",
       "50%                   12.000000                      1.00000         1.000000   \n",
       "75%                   17.000000                      3.00000         2.000000   \n",
       "max                   23.000000                      4.00000         2.000000   \n",
       "\n",
       "         witnesses  total_claim_amount  injury_claim  property_claim  \\\n",
       "count  1000.000000          1000.00000   1000.000000     1000.000000   \n",
       "mean      1.487000         52761.94000   7433.420000     7399.570000   \n",
       "std       1.111335         26401.53319   4880.951853     4824.726179   \n",
       "min       0.000000           100.00000      0.000000        0.000000   \n",
       "25%       1.000000         41812.50000   4295.000000     4445.000000   \n",
       "50%       1.000000         58055.00000   6775.000000     6750.000000   \n",
       "75%       2.000000         70592.50000  11305.000000    10885.000000   \n",
       "max       3.000000        114920.00000  21450.000000    23670.000000   \n",
       "\n",
       "       vehicle_claim    auto_year         Year        Month          Day  \n",
       "count    1000.000000  1000.000000  1000.000000  1000.000000  1000.000000  \n",
       "mean    37928.950000  2005.103000  2001.604000     6.559000    15.448000  \n",
       "std     18886.252893     6.015861     7.360391     3.391758     8.850176  \n",
       "min        70.000000  1995.000000  1990.000000     1.000000     1.000000  \n",
       "25%     30292.500000  2000.000000  1995.000000     4.000000     8.000000  \n",
       "50%     42100.000000  2005.000000  2002.000000     7.000000    16.000000  \n",
       "75%     50822.500000  2010.000000  2008.000000     9.000000    23.000000  \n",
       "max     79560.000000  2015.000000  2015.000000    12.000000    31.000000  "
      ]
     },
     "execution_count": 19,
     "metadata": {},
     "output_type": "execute_result"
    }
   ],
   "source": [
    "df.describe()"
   ]
  },
  {
   "cell_type": "code",
   "execution_count": 20,
   "metadata": {},
   "outputs": [
    {
     "data": {
      "text/html": [
       "<div>\n",
       "<style scoped>\n",
       "    .dataframe tbody tr th:only-of-type {\n",
       "        vertical-align: middle;\n",
       "    }\n",
       "\n",
       "    .dataframe tbody tr th {\n",
       "        vertical-align: top;\n",
       "    }\n",
       "\n",
       "    .dataframe thead th {\n",
       "        text-align: right;\n",
       "    }\n",
       "</style>\n",
       "<table border=\"1\" class=\"dataframe\">\n",
       "  <thead>\n",
       "    <tr style=\"text-align: right;\">\n",
       "      <th></th>\n",
       "      <th>policy_state</th>\n",
       "      <th>policy_csl</th>\n",
       "      <th>insured_sex</th>\n",
       "      <th>insured_education_level</th>\n",
       "      <th>insured_occupation</th>\n",
       "      <th>insured_hobbies</th>\n",
       "      <th>insured_relationship</th>\n",
       "      <th>incident_date</th>\n",
       "      <th>incident_type</th>\n",
       "      <th>collision_type</th>\n",
       "      <th>incident_severity</th>\n",
       "      <th>authorities_contacted</th>\n",
       "      <th>incident_state</th>\n",
       "      <th>incident_city</th>\n",
       "      <th>property_damage</th>\n",
       "      <th>police_report_available</th>\n",
       "      <th>auto_make</th>\n",
       "      <th>auto_model</th>\n",
       "      <th>fraud_reported</th>\n",
       "    </tr>\n",
       "  </thead>\n",
       "  <tbody>\n",
       "    <tr>\n",
       "      <th>count</th>\n",
       "      <td>1000</td>\n",
       "      <td>1000</td>\n",
       "      <td>1000</td>\n",
       "      <td>1000</td>\n",
       "      <td>1000</td>\n",
       "      <td>1000</td>\n",
       "      <td>1000</td>\n",
       "      <td>1000</td>\n",
       "      <td>1000</td>\n",
       "      <td>1000</td>\n",
       "      <td>1000</td>\n",
       "      <td>1000</td>\n",
       "      <td>1000</td>\n",
       "      <td>1000</td>\n",
       "      <td>1000</td>\n",
       "      <td>1000</td>\n",
       "      <td>1000</td>\n",
       "      <td>1000</td>\n",
       "      <td>1000</td>\n",
       "    </tr>\n",
       "    <tr>\n",
       "      <th>unique</th>\n",
       "      <td>3</td>\n",
       "      <td>3</td>\n",
       "      <td>2</td>\n",
       "      <td>7</td>\n",
       "      <td>14</td>\n",
       "      <td>20</td>\n",
       "      <td>6</td>\n",
       "      <td>60</td>\n",
       "      <td>4</td>\n",
       "      <td>3</td>\n",
       "      <td>4</td>\n",
       "      <td>5</td>\n",
       "      <td>7</td>\n",
       "      <td>7</td>\n",
       "      <td>2</td>\n",
       "      <td>2</td>\n",
       "      <td>14</td>\n",
       "      <td>39</td>\n",
       "      <td>2</td>\n",
       "    </tr>\n",
       "    <tr>\n",
       "      <th>top</th>\n",
       "      <td>OH</td>\n",
       "      <td>250/500</td>\n",
       "      <td>FEMALE</td>\n",
       "      <td>JD</td>\n",
       "      <td>machine-op-inspct</td>\n",
       "      <td>reading</td>\n",
       "      <td>own-child</td>\n",
       "      <td>02-02-2015</td>\n",
       "      <td>Multi-vehicle Collision</td>\n",
       "      <td>Rear Collision</td>\n",
       "      <td>Minor Damage</td>\n",
       "      <td>Police</td>\n",
       "      <td>NY</td>\n",
       "      <td>Springfield</td>\n",
       "      <td>NO</td>\n",
       "      <td>NO</td>\n",
       "      <td>Suburu</td>\n",
       "      <td>RAM</td>\n",
       "      <td>N</td>\n",
       "    </tr>\n",
       "    <tr>\n",
       "      <th>freq</th>\n",
       "      <td>352</td>\n",
       "      <td>351</td>\n",
       "      <td>537</td>\n",
       "      <td>161</td>\n",
       "      <td>93</td>\n",
       "      <td>64</td>\n",
       "      <td>183</td>\n",
       "      <td>28</td>\n",
       "      <td>419</td>\n",
       "      <td>470</td>\n",
       "      <td>354</td>\n",
       "      <td>292</td>\n",
       "      <td>262</td>\n",
       "      <td>157</td>\n",
       "      <td>698</td>\n",
       "      <td>686</td>\n",
       "      <td>80</td>\n",
       "      <td>43</td>\n",
       "      <td>753</td>\n",
       "    </tr>\n",
       "  </tbody>\n",
       "</table>\n",
       "</div>"
      ],
      "text/plain": [
       "       policy_state policy_csl insured_sex insured_education_level  \\\n",
       "count          1000       1000        1000                    1000   \n",
       "unique            3          3           2                       7   \n",
       "top              OH    250/500      FEMALE                      JD   \n",
       "freq            352        351         537                     161   \n",
       "\n",
       "       insured_occupation insured_hobbies insured_relationship incident_date  \\\n",
       "count                1000            1000                 1000          1000   \n",
       "unique                 14              20                    6            60   \n",
       "top     machine-op-inspct         reading            own-child    02-02-2015   \n",
       "freq                   93              64                  183            28   \n",
       "\n",
       "                  incident_type  collision_type incident_severity  \\\n",
       "count                      1000            1000              1000   \n",
       "unique                        4               3                 4   \n",
       "top     Multi-vehicle Collision  Rear Collision      Minor Damage   \n",
       "freq                        419             470               354   \n",
       "\n",
       "       authorities_contacted incident_state incident_city property_damage  \\\n",
       "count                   1000           1000          1000            1000   \n",
       "unique                     5              7             7               2   \n",
       "top                   Police             NY   Springfield              NO   \n",
       "freq                     292            262           157             698   \n",
       "\n",
       "       police_report_available auto_make auto_model fraud_reported  \n",
       "count                     1000      1000       1000           1000  \n",
       "unique                       2        14         39              2  \n",
       "top                         NO    Suburu        RAM              N  \n",
       "freq                       686        80         43            753  "
      ]
     },
     "execution_count": 20,
     "metadata": {},
     "output_type": "execute_result"
    }
   ],
   "source": [
    "df.describe(include=\"O\")"
   ]
  },
  {
   "cell_type": "code",
   "execution_count": 21,
   "metadata": {},
   "outputs": [
    {
     "data": {
      "text/plain": [
       "<AxesSubplot:>"
      ]
     },
     "execution_count": 21,
     "metadata": {},
     "output_type": "execute_result"
    },
    {
     "data": {
      "image/png": "[encoded data removed]",
      "text/plain": [
       "<Figure size 2160x504 with 2 Axes>"
      ]
     },
     "metadata": {
      "needs_background": "light"
     },
     "output_type": "display_data"
    }
   ],
   "source": [
    "plt.figure(figsize=(30,7))\n",
    "sns.heatmap(df.describe(),annot=True,fmt='0.2f',linewidths=0.1,linecolor='white')"
   ]
  },
  {
   "cell_type": "markdown",
   "metadata": {},
   "source": [
    "# Class Imbalance"
   ]
  },
  {
   "cell_type": "code",
   "execution_count": 22,
   "metadata": {},
   "outputs": [
    {
     "data": {
      "text/plain": [
       "<AxesSubplot:xlabel='fraud_reported', ylabel='count'>"
      ]
     },
     "execution_count": 22,
     "metadata": {},
     "output_type": "execute_result"
    },
    {
     "data": {
      "image/png": "[encoded data removed]",
      "text/plain": [
       "<Figure size 432x288 with 1 Axes>"
      ]
     },
     "metadata": {
      "needs_background": "light"
     },
     "output_type": "display_data"
    }
   ],
   "source": [
    "sns.countplot(x='fraud_reported',data=df)"
   ]
  },
  {
   "cell_type": "code",
   "execution_count": 23,
   "metadata": {},
   "outputs": [],
   "source": [
    "from sklearn.preprocessing import LabelEncoder\n",
    "LE=LabelEncoder()\n",
    "df['fraud_reported']=LE.fit_transform(df['fraud_reported'])"
   ]
  },
  {
   "cell_type": "markdown",
   "metadata": {},
   "source": [
    "# Checking Correlation"
   ]
  },
  {
   "cell_type": "code",
   "execution_count": 24,
   "metadata": {},
   "outputs": [
    {
     "data": {
      "text/html": [
       "<div>\n",
       "<style scoped>\n",
       "    .dataframe tbody tr th:only-of-type {\n",
       "        vertical-align: middle;\n",
       "    }\n",
       "\n",
       "    .dataframe tbody tr th {\n",
       "        vertical-align: top;\n",
       "    }\n",
       "\n",
       "    .dataframe thead th {\n",
       "        text-align: right;\n",
       "    }\n",
       "</style>\n",
       "<table border=\"1\" class=\"dataframe\">\n",
       "  <thead>\n",
       "    <tr style=\"text-align: right;\">\n",
       "      <th></th>\n",
       "      <th>months_as_customer</th>\n",
       "      <th>age</th>\n",
       "      <th>policy_deductable</th>\n",
       "      <th>policy_annual_premium</th>\n",
       "      <th>umbrella_limit</th>\n",
       "      <th>capital-gains</th>\n",
       "      <th>capital-loss</th>\n",
       "      <th>incident_hour_of_the_day</th>\n",
       "      <th>number_of_vehicles_involved</th>\n",
       "      <th>bodily_injuries</th>\n",
       "      <th>witnesses</th>\n",
       "      <th>total_claim_amount</th>\n",
       "      <th>injury_claim</th>\n",
       "      <th>property_claim</th>\n",
       "      <th>vehicle_claim</th>\n",
       "      <th>auto_year</th>\n",
       "      <th>fraud_reported</th>\n",
       "      <th>Year</th>\n",
       "      <th>Month</th>\n",
       "      <th>Day</th>\n",
       "    </tr>\n",
       "  </thead>\n",
       "  <tbody>\n",
       "    <tr>\n",
       "      <th>months_as_customer</th>\n",
       "      <td>1.000000</td>\n",
       "      <td>0.922098</td>\n",
       "      <td>0.026807</td>\n",
       "      <td>0.005018</td>\n",
       "      <td>0.015498</td>\n",
       "      <td>0.006399</td>\n",
       "      <td>0.020209</td>\n",
       "      <td>0.070639</td>\n",
       "      <td>0.014736</td>\n",
       "      <td>-0.010162</td>\n",
       "      <td>0.058383</td>\n",
       "      <td>0.062108</td>\n",
       "      <td>0.065329</td>\n",
       "      <td>0.034940</td>\n",
       "      <td>0.061013</td>\n",
       "      <td>-0.000292</td>\n",
       "      <td>0.020544</td>\n",
       "      <td>-0.048276</td>\n",
       "      <td>0.005750</td>\n",
       "      <td>0.051728</td>\n",
       "    </tr>\n",
       "    <tr>\n",
       "      <th>age</th>\n",
       "      <td>0.922098</td>\n",
       "      <td>1.000000</td>\n",
       "      <td>0.029188</td>\n",
       "      <td>0.014404</td>\n",
       "      <td>0.018126</td>\n",
       "      <td>-0.007075</td>\n",
       "      <td>0.007368</td>\n",
       "      <td>0.087161</td>\n",
       "      <td>0.022102</td>\n",
       "      <td>-0.015679</td>\n",
       "      <td>0.052359</td>\n",
       "      <td>0.069863</td>\n",
       "      <td>0.075522</td>\n",
       "      <td>0.060898</td>\n",
       "      <td>0.062588</td>\n",
       "      <td>0.001354</td>\n",
       "      <td>0.012143</td>\n",
       "      <td>-0.037444</td>\n",
       "      <td>0.015501</td>\n",
       "      <td>0.053869</td>\n",
       "    </tr>\n",
       "    <tr>\n",
       "      <th>policy_deductable</th>\n",
       "      <td>0.026807</td>\n",
       "      <td>0.029188</td>\n",
       "      <td>1.000000</td>\n",
       "      <td>-0.003245</td>\n",
       "      <td>0.010870</td>\n",
       "      <td>0.035212</td>\n",
       "      <td>-0.023544</td>\n",
       "      <td>0.060935</td>\n",
       "      <td>0.051214</td>\n",
       "      <td>-0.022765</td>\n",
       "      <td>0.066639</td>\n",
       "      <td>0.022839</td>\n",
       "      <td>0.039107</td>\n",
       "      <td>0.064792</td>\n",
       "      <td>0.005269</td>\n",
       "      <td>0.026105</td>\n",
       "      <td>0.014817</td>\n",
       "      <td>-0.049598</td>\n",
       "      <td>-0.050416</td>\n",
       "      <td>0.009164</td>\n",
       "    </tr>\n",
       "    <tr>\n",
       "      <th>policy_annual_premium</th>\n",
       "      <td>0.005018</td>\n",
       "      <td>0.014404</td>\n",
       "      <td>-0.003245</td>\n",
       "      <td>1.000000</td>\n",
       "      <td>-0.006247</td>\n",
       "      <td>-0.013738</td>\n",
       "      <td>0.023547</td>\n",
       "      <td>-0.001578</td>\n",
       "      <td>-0.045991</td>\n",
       "      <td>0.026780</td>\n",
       "      <td>0.002332</td>\n",
       "      <td>0.009094</td>\n",
       "      <td>-0.017633</td>\n",
       "      <td>-0.011654</td>\n",
       "      <td>0.020246</td>\n",
       "      <td>-0.049226</td>\n",
       "      <td>-0.014480</td>\n",
       "      <td>0.001249</td>\n",
       "      <td>-0.035355</td>\n",
       "      <td>-0.025183</td>\n",
       "    </tr>\n",
       "    <tr>\n",
       "      <th>umbrella_limit</th>\n",
       "      <td>0.015498</td>\n",
       "      <td>0.018126</td>\n",
       "      <td>0.010870</td>\n",
       "      <td>-0.006247</td>\n",
       "      <td>1.000000</td>\n",
       "      <td>-0.047268</td>\n",
       "      <td>-0.024056</td>\n",
       "      <td>-0.023257</td>\n",
       "      <td>-0.021270</td>\n",
       "      <td>0.022743</td>\n",
       "      <td>-0.006738</td>\n",
       "      <td>-0.040344</td>\n",
       "      <td>-0.045412</td>\n",
       "      <td>-0.023790</td>\n",
       "      <td>-0.038584</td>\n",
       "      <td>0.009893</td>\n",
       "      <td>0.058622</td>\n",
       "      <td>0.048008</td>\n",
       "      <td>0.009961</td>\n",
       "      <td>-0.045207</td>\n",
       "    </tr>\n",
       "    <tr>\n",
       "      <th>capital-gains</th>\n",
       "      <td>0.006399</td>\n",
       "      <td>-0.007075</td>\n",
       "      <td>0.035212</td>\n",
       "      <td>-0.013738</td>\n",
       "      <td>-0.047268</td>\n",
       "      <td>1.000000</td>\n",
       "      <td>-0.046904</td>\n",
       "      <td>-0.016406</td>\n",
       "      <td>0.061643</td>\n",
       "      <td>0.055829</td>\n",
       "      <td>-0.017651</td>\n",
       "      <td>0.015980</td>\n",
       "      <td>0.025934</td>\n",
       "      <td>-0.000779</td>\n",
       "      <td>0.015836</td>\n",
       "      <td>0.031398</td>\n",
       "      <td>-0.019173</td>\n",
       "      <td>0.041249</td>\n",
       "      <td>-0.011102</td>\n",
       "      <td>0.007994</td>\n",
       "    </tr>\n",
       "    <tr>\n",
       "      <th>capital-loss</th>\n",
       "      <td>0.020209</td>\n",
       "      <td>0.007368</td>\n",
       "      <td>-0.023544</td>\n",
       "      <td>0.023547</td>\n",
       "      <td>-0.024056</td>\n",
       "      <td>-0.046904</td>\n",
       "      <td>1.000000</td>\n",
       "      <td>-0.025054</td>\n",
       "      <td>-0.014895</td>\n",
       "      <td>-0.024418</td>\n",
       "      <td>-0.041330</td>\n",
       "      <td>-0.036060</td>\n",
       "      <td>-0.046060</td>\n",
       "      <td>-0.022863</td>\n",
       "      <td>-0.032665</td>\n",
       "      <td>-0.056615</td>\n",
       "      <td>-0.014863</td>\n",
       "      <td>-0.026420</td>\n",
       "      <td>0.003436</td>\n",
       "      <td>-0.038297</td>\n",
       "    </tr>\n",
       "    <tr>\n",
       "      <th>incident_hour_of_the_day</th>\n",
       "      <td>0.070639</td>\n",
       "      <td>0.087161</td>\n",
       "      <td>0.060935</td>\n",
       "      <td>-0.001578</td>\n",
       "      <td>-0.023257</td>\n",
       "      <td>-0.016406</td>\n",
       "      <td>-0.025054</td>\n",
       "      <td>1.000000</td>\n",
       "      <td>0.120794</td>\n",
       "      <td>-0.034563</td>\n",
       "      <td>0.006527</td>\n",
       "      <td>0.217702</td>\n",
       "      <td>0.165768</td>\n",
       "      <td>0.179536</td>\n",
       "      <td>0.215626</td>\n",
       "      <td>0.021368</td>\n",
       "      <td>0.004316</td>\n",
       "      <td>0.035412</td>\n",
       "      <td>-0.000934</td>\n",
       "      <td>-0.009511</td>\n",
       "    </tr>\n",
       "    <tr>\n",
       "      <th>number_of_vehicles_involved</th>\n",
       "      <td>0.014736</td>\n",
       "      <td>0.022102</td>\n",
       "      <td>0.051214</td>\n",
       "      <td>-0.045991</td>\n",
       "      <td>-0.021270</td>\n",
       "      <td>0.061643</td>\n",
       "      <td>-0.014895</td>\n",
       "      <td>0.120794</td>\n",
       "      <td>1.000000</td>\n",
       "      <td>0.014030</td>\n",
       "      <td>-0.014669</td>\n",
       "      <td>0.274278</td>\n",
       "      <td>0.224650</td>\n",
       "      <td>0.219084</td>\n",
       "      <td>0.269393</td>\n",
       "      <td>0.034554</td>\n",
       "      <td>0.051839</td>\n",
       "      <td>0.026595</td>\n",
       "      <td>-0.044608</td>\n",
       "      <td>0.005787</td>\n",
       "    </tr>\n",
       "    <tr>\n",
       "      <th>bodily_injuries</th>\n",
       "      <td>-0.010162</td>\n",
       "      <td>-0.015679</td>\n",
       "      <td>-0.022765</td>\n",
       "      <td>0.026780</td>\n",
       "      <td>0.022743</td>\n",
       "      <td>0.055829</td>\n",
       "      <td>-0.024418</td>\n",
       "      <td>-0.034563</td>\n",
       "      <td>0.014030</td>\n",
       "      <td>1.000000</td>\n",
       "      <td>-0.005606</td>\n",
       "      <td>0.047093</td>\n",
       "      <td>0.047319</td>\n",
       "      <td>0.039749</td>\n",
       "      <td>0.043449</td>\n",
       "      <td>-0.020527</td>\n",
       "      <td>0.033877</td>\n",
       "      <td>0.029987</td>\n",
       "      <td>-0.031138</td>\n",
       "      <td>-0.043500</td>\n",
       "    </tr>\n",
       "    <tr>\n",
       "      <th>witnesses</th>\n",
       "      <td>0.058383</td>\n",
       "      <td>0.052359</td>\n",
       "      <td>0.066639</td>\n",
       "      <td>0.002332</td>\n",
       "      <td>-0.006738</td>\n",
       "      <td>-0.017651</td>\n",
       "      <td>-0.041330</td>\n",
       "      <td>0.006527</td>\n",
       "      <td>-0.014669</td>\n",
       "      <td>-0.005606</td>\n",
       "      <td>1.000000</td>\n",
       "      <td>-0.011114</td>\n",
       "      <td>-0.024843</td>\n",
       "      <td>0.052640</td>\n",
       "      <td>-0.022564</td>\n",
       "      <td>0.045791</td>\n",
       "      <td>0.049497</td>\n",
       "      <td>0.055907</td>\n",
       "      <td>-0.015996</td>\n",
       "      <td>0.005071</td>\n",
       "    </tr>\n",
       "    <tr>\n",
       "      <th>total_claim_amount</th>\n",
       "      <td>0.062108</td>\n",
       "      <td>0.069863</td>\n",
       "      <td>0.022839</td>\n",
       "      <td>0.009094</td>\n",
       "      <td>-0.040344</td>\n",
       "      <td>0.015980</td>\n",
       "      <td>-0.036060</td>\n",
       "      <td>0.217702</td>\n",
       "      <td>0.274278</td>\n",
       "      <td>0.047093</td>\n",
       "      <td>-0.011114</td>\n",
       "      <td>1.000000</td>\n",
       "      <td>0.805025</td>\n",
       "      <td>0.810686</td>\n",
       "      <td>0.982773</td>\n",
       "      <td>-0.035781</td>\n",
       "      <td>0.163651</td>\n",
       "      <td>-0.000146</td>\n",
       "      <td>0.055819</td>\n",
       "      <td>-0.001096</td>\n",
       "    </tr>\n",
       "    <tr>\n",
       "      <th>injury_claim</th>\n",
       "      <td>0.065329</td>\n",
       "      <td>0.075522</td>\n",
       "      <td>0.039107</td>\n",
       "      <td>-0.017633</td>\n",
       "      <td>-0.045412</td>\n",
       "      <td>0.025934</td>\n",
       "      <td>-0.046060</td>\n",
       "      <td>0.165768</td>\n",
       "      <td>0.224650</td>\n",
       "      <td>0.047319</td>\n",
       "      <td>-0.024843</td>\n",
       "      <td>0.805025</td>\n",
       "      <td>1.000000</td>\n",
       "      <td>0.563866</td>\n",
       "      <td>0.722878</td>\n",
       "      <td>-0.013718</td>\n",
       "      <td>0.090975</td>\n",
       "      <td>0.002529</td>\n",
       "      <td>0.014858</td>\n",
       "      <td>0.015576</td>\n",
       "    </tr>\n",
       "    <tr>\n",
       "      <th>property_claim</th>\n",
       "      <td>0.034940</td>\n",
       "      <td>0.060898</td>\n",
       "      <td>0.064792</td>\n",
       "      <td>-0.011654</td>\n",
       "      <td>-0.023790</td>\n",
       "      <td>-0.000779</td>\n",
       "      <td>-0.022863</td>\n",
       "      <td>0.179536</td>\n",
       "      <td>0.219084</td>\n",
       "      <td>0.039749</td>\n",
       "      <td>0.052640</td>\n",
       "      <td>0.810686</td>\n",
       "      <td>0.563866</td>\n",
       "      <td>1.000000</td>\n",
       "      <td>0.732090</td>\n",
       "      <td>-0.014508</td>\n",
       "      <td>0.137835</td>\n",
       "      <td>-0.000970</td>\n",
       "      <td>0.054255</td>\n",
       "      <td>-0.003849</td>\n",
       "    </tr>\n",
       "    <tr>\n",
       "      <th>vehicle_claim</th>\n",
       "      <td>0.061013</td>\n",
       "      <td>0.062588</td>\n",
       "      <td>0.005269</td>\n",
       "      <td>0.020246</td>\n",
       "      <td>-0.038584</td>\n",
       "      <td>0.015836</td>\n",
       "      <td>-0.032665</td>\n",
       "      <td>0.215626</td>\n",
       "      <td>0.269393</td>\n",
       "      <td>0.043449</td>\n",
       "      <td>-0.022564</td>\n",
       "      <td>0.982773</td>\n",
       "      <td>0.722878</td>\n",
       "      <td>0.732090</td>\n",
       "      <td>1.000000</td>\n",
       "      <td>-0.042768</td>\n",
       "      <td>0.170049</td>\n",
       "      <td>-0.000610</td>\n",
       "      <td>0.060331</td>\n",
       "      <td>-0.004574</td>\n",
       "    </tr>\n",
       "    <tr>\n",
       "      <th>auto_year</th>\n",
       "      <td>-0.000292</td>\n",
       "      <td>0.001354</td>\n",
       "      <td>0.026105</td>\n",
       "      <td>-0.049226</td>\n",
       "      <td>0.009893</td>\n",
       "      <td>0.031398</td>\n",
       "      <td>-0.056615</td>\n",
       "      <td>0.021368</td>\n",
       "      <td>0.034554</td>\n",
       "      <td>-0.020527</td>\n",
       "      <td>0.045791</td>\n",
       "      <td>-0.035781</td>\n",
       "      <td>-0.013718</td>\n",
       "      <td>-0.014508</td>\n",
       "      <td>-0.042768</td>\n",
       "      <td>1.000000</td>\n",
       "      <td>0.007928</td>\n",
       "      <td>0.015164</td>\n",
       "      <td>-0.002481</td>\n",
       "      <td>0.025360</td>\n",
       "    </tr>\n",
       "    <tr>\n",
       "      <th>fraud_reported</th>\n",
       "      <td>0.020544</td>\n",
       "      <td>0.012143</td>\n",
       "      <td>0.014817</td>\n",
       "      <td>-0.014480</td>\n",
       "      <td>0.058622</td>\n",
       "      <td>-0.019173</td>\n",
       "      <td>-0.014863</td>\n",
       "      <td>0.004316</td>\n",
       "      <td>0.051839</td>\n",
       "      <td>0.033877</td>\n",
       "      <td>0.049497</td>\n",
       "      <td>0.163651</td>\n",
       "      <td>0.090975</td>\n",
       "      <td>0.137835</td>\n",
       "      <td>0.170049</td>\n",
       "      <td>0.007928</td>\n",
       "      <td>1.000000</td>\n",
       "      <td>-0.000059</td>\n",
       "      <td>-0.030829</td>\n",
       "      <td>0.060643</td>\n",
       "    </tr>\n",
       "    <tr>\n",
       "      <th>Year</th>\n",
       "      <td>-0.048276</td>\n",
       "      <td>-0.037444</td>\n",
       "      <td>-0.049598</td>\n",
       "      <td>0.001249</td>\n",
       "      <td>0.048008</td>\n",
       "      <td>0.041249</td>\n",
       "      <td>-0.026420</td>\n",
       "      <td>0.035412</td>\n",
       "      <td>0.026595</td>\n",
       "      <td>0.029987</td>\n",
       "      <td>0.055907</td>\n",
       "      <td>-0.000146</td>\n",
       "      <td>0.002529</td>\n",
       "      <td>-0.000970</td>\n",
       "      <td>-0.000610</td>\n",
       "      <td>0.015164</td>\n",
       "      <td>-0.000059</td>\n",
       "      <td>1.000000</td>\n",
       "      <td>-0.010210</td>\n",
       "      <td>0.000221</td>\n",
       "    </tr>\n",
       "    <tr>\n",
       "      <th>Month</th>\n",
       "      <td>0.005750</td>\n",
       "      <td>0.015501</td>\n",
       "      <td>-0.050416</td>\n",
       "      <td>-0.035355</td>\n",
       "      <td>0.009961</td>\n",
       "      <td>-0.011102</td>\n",
       "      <td>0.003436</td>\n",
       "      <td>-0.000934</td>\n",
       "      <td>-0.044608</td>\n",
       "      <td>-0.031138</td>\n",
       "      <td>-0.015996</td>\n",
       "      <td>0.055819</td>\n",
       "      <td>0.014858</td>\n",
       "      <td>0.054255</td>\n",
       "      <td>0.060331</td>\n",
       "      <td>-0.002481</td>\n",
       "      <td>-0.030829</td>\n",
       "      <td>-0.010210</td>\n",
       "      <td>1.000000</td>\n",
       "      <td>0.031699</td>\n",
       "    </tr>\n",
       "    <tr>\n",
       "      <th>Day</th>\n",
       "      <td>0.051728</td>\n",
       "      <td>0.053869</td>\n",
       "      <td>0.009164</td>\n",
       "      <td>-0.025183</td>\n",
       "      <td>-0.045207</td>\n",
       "      <td>0.007994</td>\n",
       "      <td>-0.038297</td>\n",
       "      <td>-0.009511</td>\n",
       "      <td>0.005787</td>\n",
       "      <td>-0.043500</td>\n",
       "      <td>0.005071</td>\n",
       "      <td>-0.001096</td>\n",
       "      <td>0.015576</td>\n",
       "      <td>-0.003849</td>\n",
       "      <td>-0.004574</td>\n",
       "      <td>0.025360</td>\n",
       "      <td>0.060643</td>\n",
       "      <td>0.000221</td>\n",
       "      <td>0.031699</td>\n",
       "      <td>1.000000</td>\n",
       "    </tr>\n",
       "  </tbody>\n",
       "</table>\n",
       "</div>"
      ],
      "text/plain": [
       "                             months_as_customer       age  policy_deductable  \\\n",
       "months_as_customer                     1.000000  0.922098           0.026807   \n",
       "age                                    0.922098  1.000000           0.029188   \n",
       "policy_deductable                      0.026807  0.029188           1.000000   \n",
       "policy_annual_premium                  0.005018  0.014404          -0.003245   \n",
       "umbrella_limit                         0.015498  0.018126           0.010870   \n",
       "capital-gains                          0.006399 -0.007075           0.035212   \n",
       "capital-loss                           0.020209  0.007368          -0.023544   \n",
       "incident_hour_of_the_day               0.070639  0.087161           0.060935   \n",
       "number_of_vehicles_involved            0.014736  0.022102           0.051214   \n",
       "bodily_injuries                       -0.010162 -0.015679          -0.022765   \n",
       "witnesses                              0.058383  0.052359           0.066639   \n",
       "total_claim_amount                     0.062108  0.069863           0.022839   \n",
       "injury_claim                           0.065329  0.075522           0.039107   \n",
       "property_claim                         0.034940  0.060898           0.064792   \n",
       "vehicle_claim                          0.061013  0.062588           0.005269   \n",
       "auto_year                             -0.000292  0.001354           0.026105   \n",
       "fraud_reported                         0.020544  0.012143           0.014817   \n",
       "Year                                  -0.048276 -0.037444          -0.049598   \n",
       "Month                                  0.005750  0.015501          -0.050416   \n",
       "Day                                    0.051728  0.053869           0.009164   \n",
       "\n",
       "                             policy_annual_premium  umbrella_limit  \\\n",
       "months_as_customer                        0.005018        0.015498   \n",
       "age                                       0.014404        0.018126   \n",
       "policy_deductable                        -0.003245        0.010870   \n",
       "policy_annual_premium                     1.000000       -0.006247   \n",
       "umbrella_limit                           -0.006247        1.000000   \n",
       "capital-gains                            -0.013738       -0.047268   \n",
       "capital-loss                              0.023547       -0.024056   \n",
       "incident_hour_of_the_day                 -0.001578       -0.023257   \n",
       "number_of_vehicles_involved              -0.045991       -0.021270   \n",
       "bodily_injuries                           0.026780        0.022743   \n",
       "witnesses                                 0.002332       -0.006738   \n",
       "total_claim_amount                        0.009094       -0.040344   \n",
       "injury_claim                             -0.017633       -0.045412   \n",
       "property_claim                           -0.011654       -0.023790   \n",
       "vehicle_claim                             0.020246       -0.038584   \n",
       "auto_year                                -0.049226        0.009893   \n",
       "fraud_reported                           -0.014480        0.058622   \n",
       "Year                                      0.001249        0.048008   \n",
       "Month                                    -0.035355        0.009961   \n",
       "Day                                      -0.025183       -0.045207   \n",
       "\n",
       "                             capital-gains  capital-loss  \\\n",
       "months_as_customer                0.006399      0.020209   \n",
       "age                              -0.007075      0.007368   \n",
       "policy_deductable                 0.035212     -0.023544   \n",
       "policy_annual_premium            -0.013738      0.023547   \n",
       "umbrella_limit                   -0.047268     -0.024056   \n",
       "capital-gains                     1.000000     -0.046904   \n",
       "capital-loss                     -0.046904      1.000000   \n",
       "incident_hour_of_the_day         -0.016406     -0.025054   \n",
       "number_of_vehicles_involved       0.061643     -0.014895   \n",
       "bodily_injuries                   0.055829     -0.024418   \n",
       "witnesses                        -0.017651     -0.041330   \n",
       "total_claim_amount                0.015980     -0.036060   \n",
       "injury_claim                      0.025934     -0.046060   \n",
       "property_claim                   -0.000779     -0.022863   \n",
       "vehicle_claim                     0.015836     -0.032665   \n",
       "auto_year                         0.031398     -0.056615   \n",
       "fraud_reported                   -0.019173     -0.014863   \n",
       "Year                              0.041249     -0.026420   \n",
       "Month                            -0.011102      0.003436   \n",
       "Day                               0.007994     -0.038297   \n",
       "\n",
       "                             incident_hour_of_the_day  \\\n",
       "months_as_customer                           0.070639   \n",
       "age                                          0.087161   \n",
       "policy_deductable                            0.060935   \n",
       "policy_annual_premium                       -0.001578   \n",
       "umbrella_limit                              -0.023257   \n",
       "capital-gains                               -0.016406   \n",
       "capital-loss                                -0.025054   \n",
       "incident_hour_of_the_day                     1.000000   \n",
       "number_of_vehicles_involved                  0.120794   \n",
       "bodily_injuries                             -0.034563   \n",
       "witnesses                                    0.006527   \n",
       "total_claim_amount                           0.217702   \n",
       "injury_claim                                 0.165768   \n",
       "property_claim                               0.179536   \n",
       "vehicle_claim                                0.215626   \n",
       "auto_year                                    0.021368   \n",
       "fraud_reported                               0.004316   \n",
       "Year                                         0.035412   \n",
       "Month                                       -0.000934   \n",
       "Day                                         -0.009511   \n",
       "\n",
       "                             number_of_vehicles_involved  bodily_injuries  \\\n",
       "months_as_customer                              0.014736        -0.010162   \n",
       "age                                             0.022102        -0.015679   \n",
       "policy_deductable                               0.051214        -0.022765   \n",
       "policy_annual_premium                          -0.045991         0.026780   \n",
       "umbrella_limit                                 -0.021270         0.022743   \n",
       "capital-gains                                   0.061643         0.055829   \n",
       "capital-loss                                   -0.014895        -0.024418   \n",
       "incident_hour_of_the_day                        0.120794        -0.034563   \n",
       "number_of_vehicles_involved                     1.000000         0.014030   \n",
       "bodily_injuries                                 0.014030         1.000000   \n",
       "witnesses                                      -0.014669        -0.005606   \n",
       "total_claim_amount                              0.274278         0.047093   \n",
       "injury_claim                                    0.224650         0.047319   \n",
       "property_claim                                  0.219084         0.039749   \n",
       "vehicle_claim                                   0.269393         0.043449   \n",
       "auto_year                                       0.034554        -0.020527   \n",
       "fraud_reported                                  0.051839         0.033877   \n",
       "Year                                            0.026595         0.029987   \n",
       "Month                                          -0.044608        -0.031138   \n",
       "Day                                             0.005787        -0.043500   \n",
       "\n",
       "                             witnesses  total_claim_amount  injury_claim  \\\n",
       "months_as_customer            0.058383            0.062108      0.065329   \n",
       "age                           0.052359            0.069863      0.075522   \n",
       "policy_deductable             0.066639            0.022839      0.039107   \n",
       "policy_annual_premium         0.002332            0.009094     -0.017633   \n",
       "umbrella_limit               -0.006738           -0.040344     -0.045412   \n",
       "capital-gains                -0.017651            0.015980      0.025934   \n",
       "capital-loss                 -0.041330           -0.036060     -0.046060   \n",
       "incident_hour_of_the_day      0.006527            0.217702      0.165768   \n",
       "number_of_vehicles_involved  -0.014669            0.274278      0.224650   \n",
       "bodily_injuries              -0.005606            0.047093      0.047319   \n",
       "witnesses                     1.000000           -0.011114     -0.024843   \n",
       "total_claim_amount           -0.011114            1.000000      0.805025   \n",
       "injury_claim                 -0.024843            0.805025      1.000000   \n",
       "property_claim                0.052640            0.810686      0.563866   \n",
       "vehicle_claim                -0.022564            0.982773      0.722878   \n",
       "auto_year                     0.045791           -0.035781     -0.013718   \n",
       "fraud_reported                0.049497            0.163651      0.090975   \n",
       "Year                          0.055907           -0.000146      0.002529   \n",
       "Month                        -0.015996            0.055819      0.014858   \n",
       "Day                           0.005071           -0.001096      0.015576   \n",
       "\n",
       "                             property_claim  vehicle_claim  auto_year  \\\n",
       "months_as_customer                 0.034940       0.061013  -0.000292   \n",
       "age                                0.060898       0.062588   0.001354   \n",
       "policy_deductable                  0.064792       0.005269   0.026105   \n",
       "policy_annual_premium             -0.011654       0.020246  -0.049226   \n",
       "umbrella_limit                    -0.023790      -0.038584   0.009893   \n",
       "capital-gains                     -0.000779       0.015836   0.031398   \n",
       "capital-loss                      -0.022863      -0.032665  -0.056615   \n",
       "incident_hour_of_the_day           0.179536       0.215626   0.021368   \n",
       "number_of_vehicles_involved        0.219084       0.269393   0.034554   \n",
       "bodily_injuries                    0.039749       0.043449  -0.020527   \n",
       "witnesses                          0.052640      -0.022564   0.045791   \n",
       "total_claim_amount                 0.810686       0.982773  -0.035781   \n",
       "injury_claim                       0.563866       0.722878  -0.013718   \n",
       "property_claim                     1.000000       0.732090  -0.014508   \n",
       "vehicle_claim                      0.732090       1.000000  -0.042768   \n",
       "auto_year                         -0.014508      -0.042768   1.000000   \n",
       "fraud_reported                     0.137835       0.170049   0.007928   \n",
       "Year                              -0.000970      -0.000610   0.015164   \n",
       "Month                              0.054255       0.060331  -0.002481   \n",
       "Day                               -0.003849      -0.004574   0.025360   \n",
       "\n",
       "                             fraud_reported      Year     Month       Day  \n",
       "months_as_customer                 0.020544 -0.048276  0.005750  0.051728  \n",
       "age                                0.012143 -0.037444  0.015501  0.053869  \n",
       "policy_deductable                  0.014817 -0.049598 -0.050416  0.009164  \n",
       "policy_annual_premium             -0.014480  0.001249 -0.035355 -0.025183  \n",
       "umbrella_limit                     0.058622  0.048008  0.009961 -0.045207  \n",
       "capital-gains                     -0.019173  0.041249 -0.011102  0.007994  \n",
       "capital-loss                      -0.014863 -0.026420  0.003436 -0.038297  \n",
       "incident_hour_of_the_day           0.004316  0.035412 -0.000934 -0.009511  \n",
       "number_of_vehicles_involved        0.051839  0.026595 -0.044608  0.005787  \n",
       "bodily_injuries                    0.033877  0.029987 -0.031138 -0.043500  \n",
       "witnesses                          0.049497  0.055907 -0.015996  0.005071  \n",
       "total_claim_amount                 0.163651 -0.000146  0.055819 -0.001096  \n",
       "injury_claim                       0.090975  0.002529  0.014858  0.015576  \n",
       "property_claim                     0.137835 -0.000970  0.054255 -0.003849  \n",
       "vehicle_claim                      0.170049 -0.000610  0.060331 -0.004574  \n",
       "auto_year                          0.007928  0.015164 -0.002481  0.025360  \n",
       "fraud_reported                     1.000000 -0.000059 -0.030829  0.060643  \n",
       "Year                              -0.000059  1.000000 -0.010210  0.000221  \n",
       "Month                             -0.030829 -0.010210  1.000000  0.031699  \n",
       "Day                                0.060643  0.000221  0.031699  1.000000  "
      ]
     },
     "execution_count": 24,
     "metadata": {},
     "output_type": "execute_result"
    }
   ],
   "source": [
    "df.corr()"
   ]
  },
  {
   "cell_type": "code",
   "execution_count": 25,
   "metadata": {},
   "outputs": [
    {
     "data": {
      "text/plain": [
       "<AxesSubplot:>"
      ]
     },
     "execution_count": 25,
     "metadata": {},
     "output_type": "execute_result"
    },
    {
     "data": {
      "image/png": "[encoded data removed]",
      "text/plain": [
       "<Figure size 2160x1080 with 2 Axes>"
      ]
     },
     "metadata": {
      "needs_background": "light"
     },
     "output_type": "display_data"
    }
   ],
   "source": [
    "plt.figure(figsize=(30,15))\n",
    "sns.heatmap(df.corr(),annot=True,fmt='0.2f',linewidths=0.1,linecolor='white')"
   ]
  },
  {
   "cell_type": "code",
   "execution_count": 26,
   "metadata": {},
   "outputs": [
    {
     "data": {
      "image/png": "[encoded data removed]",
      "text/plain": [
       "<Figure size 1584x504 with 1 Axes>"
      ]
     },
     "metadata": {
      "needs_background": "light"
     },
     "output_type": "display_data"
    }
   ],
   "source": [
    "plt.figure(figsize=(22,7))\n",
    "df.corr()['fraud_reported'].sort_values(ascending=False).drop(['fraud_reported']).plot(kind='bar',color=\"c\")\n",
    "plt.xlabel('Feature',fontsize=14)\n",
    "plt.ylabel('column with target names',fontsize=14)\n",
    "plt.title('correlation',fontsize=18)\n",
    "plt.show()"
   ]
  },
  {
   "cell_type": "code",
   "execution_count": 27,
   "metadata": {},
   "outputs": [],
   "source": [
    "#total_claim_amount and vehicle_claim are highly correlated. Therefore dropping total_claim_amount.\n",
    "df.drop(['total_claim_amount'],axis=1,inplace=True)"
   ]
  },
  {
   "cell_type": "code",
   "execution_count": 28,
   "metadata": {},
   "outputs": [
    {
     "data": {
      "image/png": "[encoded data removed]",
      "text/plain": [
       "<Figure size 432x288 with 1 Axes>"
      ]
     },
     "metadata": {
      "needs_background": "light"
     },
     "output_type": "display_data"
    }
   ],
   "source": [
    "sns.countplot(x='policy_state',data=df);"
   ]
  },
  {
   "cell_type": "markdown",
   "metadata": {},
   "source": [
    "The count for OH policy_state is quite more."
   ]
  },
  {
   "cell_type": "code",
   "execution_count": 29,
   "metadata": {},
   "outputs": [
    {
     "data": {
      "image/png": "[encoded data removed]",
      "text/plain": [
       "<Figure size 432x288 with 1 Axes>"
      ]
     },
     "metadata": {
      "needs_background": "light"
     },
     "output_type": "display_data"
    }
   ],
   "source": [
    "sns.countplot(x='policy_csl',data=df);"
   ]
  },
  {
   "cell_type": "markdown",
   "metadata": {},
   "source": [
    "The 500/1000 policy_csl has less count as compared to the 250/500 and 100/300 policy_csl."
   ]
  },
  {
   "cell_type": "code",
   "execution_count": 30,
   "metadata": {},
   "outputs": [
    {
     "data": {
      "image/png": "[encoded data removed]",
      "text/plain": [
       "<Figure size 432x288 with 1 Axes>"
      ]
     },
     "metadata": {
      "needs_background": "light"
     },
     "output_type": "display_data"
    }
   ],
   "source": [
    "sns.countplot(x='insured_sex',data=df);"
   ]
  },
  {
   "cell_type": "markdown",
   "metadata": {},
   "source": [
    "The count for insured female is more than the male."
   ]
  },
  {
   "cell_type": "code",
   "execution_count": 31,
   "metadata": {},
   "outputs": [
    {
     "data": {
      "image/png": "[encoded data removed]",
      "text/plain": [
       "<Figure size 720x288 with 1 Axes>"
      ]
     },
     "metadata": {
      "needs_background": "light"
     },
     "output_type": "display_data"
    }
   ],
   "source": [
    "plt.figure(figsize=(10,4))\n",
    "sns.countplot(x='insured_education_level',data=df);\n",
    "plt.xticks(rotation=90);"
   ]
  },
  {
   "cell_type": "markdown",
   "metadata": {},
   "source": [
    "The Phd holders and College students have less count in insured_education_level."
   ]
  },
  {
   "cell_type": "code",
   "execution_count": 32,
   "metadata": {},
   "outputs": [
    {
     "data": {
      "image/png": "[encoded data removed]",
      "text/plain": [
       "<Figure size 1080x576 with 1 Axes>"
      ]
     },
     "metadata": {
      "needs_background": "light"
     },
     "output_type": "display_data"
    }
   ],
   "source": [
    "plt.figure(figsize=(15,8))\n",
    "sns.countplot(x='insured_occupation',data=df);\n",
    "plt.xticks(rotation=90);"
   ]
  },
  {
   "cell_type": "markdown",
   "metadata": {},
   "source": [
    "Machine-op-inspct is the highest insured_occupation while the handlers-cleaners is the least insured_occupation."
   ]
  },
  {
   "cell_type": "code",
   "execution_count": 33,
   "metadata": {},
   "outputs": [
    {
     "data": {
      "image/png": "[encoded data removed]",
      "text/plain": [
       "<Figure size 720x288 with 1 Axes>"
      ]
     },
     "metadata": {
      "needs_background": "light"
     },
     "output_type": "display_data"
    }
   ],
   "source": [
    "plt.figure(figsize=(10,4))\n",
    "sns.countplot(x='insured_relationship',data=df);\n",
    "plt.xticks(rotation=90);"
   ]
  },
  {
   "cell_type": "markdown",
   "metadata": {},
   "source": [
    "The count for unmarried is less in insured_relationship."
   ]
  },
  {
   "cell_type": "code",
   "execution_count": 34,
   "metadata": {},
   "outputs": [
    {
     "data": {
      "image/png": "[encoded data removed]",
      "text/plain": [
       "<Figure size 720x288 with 1 Axes>"
      ]
     },
     "metadata": {
      "needs_background": "light"
     },
     "output_type": "display_data"
    }
   ],
   "source": [
    "plt.figure(figsize=(10,4))\n",
    "sns.countplot(x='collision_type',data=df);"
   ]
  },
  {
   "cell_type": "markdown",
   "metadata": {},
   "source": [
    "The count for Rear Collision is the highest for different collision_type."
   ]
  },
  {
   "cell_type": "code",
   "execution_count": 35,
   "metadata": {},
   "outputs": [
    {
     "data": {
      "image/png": "[encoded data removed]",
      "text/plain": [
       "<Figure size 720x288 with 1 Axes>"
      ]
     },
     "metadata": {
      "needs_background": "light"
     },
     "output_type": "display_data"
    }
   ],
   "source": [
    "plt.figure(figsize=(10,4))\n",
    "sns.countplot(x='incident_severity',data=df);"
   ]
  },
  {
   "cell_type": "markdown",
   "metadata": {},
   "source": [
    "    For Trivial Damage the count is much less than the rest."
   ]
  },
  {
   "cell_type": "code",
   "execution_count": 36,
   "metadata": {},
   "outputs": [
    {
     "data": {
      "image/png": "[encoded data removed]",
      "text/plain": [
       "<Figure size 720x288 with 1 Axes>"
      ]
     },
     "metadata": {
      "needs_background": "light"
     },
     "output_type": "display_data"
    }
   ],
   "source": [
    "plt.figure(figsize=(10,4))\n",
    "sns.countplot(x='authorities_contacted',data=df);"
   ]
  },
  {
   "cell_type": "markdown",
   "metadata": {},
   "source": [
    "Police are the most contacted authorities ."
   ]
  },
  {
   "cell_type": "code",
   "execution_count": 37,
   "metadata": {},
   "outputs": [
    {
     "data": {
      "image/png": "[encoded data removed]",
      "text/plain": [
       "<Figure size 720x288 with 1 Axes>"
      ]
     },
     "metadata": {
      "needs_background": "light"
     },
     "output_type": "display_data"
    }
   ],
   "source": [
    "plt.figure(figsize=(10,4))\n",
    "sns.countplot(x='property_damage',data=df);"
   ]
  },
  {
   "cell_type": "markdown",
   "metadata": {},
   "source": [
    "It is seen that count is much more for No property_damage ."
   ]
  },
  {
   "cell_type": "code",
   "execution_count": 38,
   "metadata": {},
   "outputs": [
    {
     "data": {
      "image/png": "[encoded data removed]",
      "text/plain": [
       "<Figure size 576x288 with 1 Axes>"
      ]
     },
     "metadata": {
      "needs_background": "light"
     },
     "output_type": "display_data"
    }
   ],
   "source": [
    "plt.figure(figsize=(8,4))\n",
    "sns.countplot(x='police_report_available',data=df);"
   ]
  },
  {
   "cell_type": "markdown",
   "metadata": {},
   "source": [
    "The police reports available are less for fraud insurance claim."
   ]
  },
  {
   "cell_type": "code",
   "execution_count": 39,
   "metadata": {},
   "outputs": [
    {
     "data": {
      "image/png": "[encoded data removed]",
      "text/plain": [
       "<Figure size 576x288 with 1 Axes>"
      ]
     },
     "metadata": {
      "needs_background": "light"
     },
     "output_type": "display_data"
    }
   ],
   "source": [
    "plt.figure(figsize=(8,4))\n",
    "sns.countplot(x='insured_sex',hue=\"fraud_reported\",data=df);"
   ]
  },
  {
   "cell_type": "code",
   "execution_count": 40,
   "metadata": {},
   "outputs": [
    {
     "data": {
      "image/png": "[encoded data removed]",
      "text/plain": [
       "<Figure size 576x288 with 1 Axes>"
      ]
     },
     "metadata": {
      "needs_background": "light"
     },
     "output_type": "display_data"
    }
   ],
   "source": [
    "plt.figure(figsize=(8,4))\n",
    "sns.countplot(x='insured_education_level',hue=\"fraud_reported\",data=df);"
   ]
  },
  {
   "cell_type": "code",
   "execution_count": 41,
   "metadata": {},
   "outputs": [
    {
     "data": {
      "image/png": "[encoded data removed]",
      "text/plain": [
       "<Figure size 576x288 with 1 Axes>"
      ]
     },
     "metadata": {
      "needs_background": "light"
     },
     "output_type": "display_data"
    }
   ],
   "source": [
    "plt.figure(figsize=(8,4))\n",
    "sns.countplot(x='insured_occupation',hue=\"fraud_reported\",data=df);\n",
    "plt.xticks(rotation=90);"
   ]
  },
  {
   "cell_type": "code",
   "execution_count": 42,
   "metadata": {},
   "outputs": [
    {
     "data": {
      "image/png": "[encoded data removed]",
      "text/plain": [
       "<Figure size 432x288 with 1 Axes>"
      ]
     },
     "metadata": {
      "needs_background": "light"
     },
     "output_type": "display_data"
    }
   ],
   "source": [
    "sns.countplot(x='insured_relationship',hue=\"fraud_reported\",data=df);\n",
    "plt.xticks(rotation=90);"
   ]
  },
  {
   "cell_type": "code",
   "execution_count": 43,
   "metadata": {},
   "outputs": [
    {
     "data": {
      "image/png": "[encoded data removed]",
      "text/plain": [
       "<Figure size 432x288 with 1 Axes>"
      ]
     },
     "metadata": {
      "needs_background": "light"
     },
     "output_type": "display_data"
    }
   ],
   "source": [
    "sns.countplot(x='incident_type',hue=\"fraud_reported\",data=df);\n",
    "plt.xticks(rotation=90);"
   ]
  },
  {
   "cell_type": "code",
   "execution_count": 44,
   "metadata": {},
   "outputs": [
    {
     "data": {
      "image/png": "[encoded data removed]",
      "text/plain": [
       "<Figure size 432x288 with 1 Axes>"
      ]
     },
     "metadata": {
      "needs_background": "light"
     },
     "output_type": "display_data"
    }
   ],
   "source": [
    "sns.countplot(x='incident_severity',hue=\"fraud_reported\",data=df);\n",
    "plt.xticks(rotation=90);"
   ]
  },
  {
   "cell_type": "code",
   "execution_count": 45,
   "metadata": {},
   "outputs": [
    {
     "data": {
      "image/png": "[encoded data removed]",
      "text/plain": [
       "<Figure size 432x288 with 1 Axes>"
      ]
     },
     "metadata": {
      "needs_background": "light"
     },
     "output_type": "display_data"
    }
   ],
   "source": [
    "sns.countplot(x='authorities_contacted',hue=\"fraud_reported\",data=df);\n",
    "plt.xticks(rotation=90);"
   ]
  },
  {
   "cell_type": "markdown",
   "metadata": {},
   "source": [
    "# Box Plots showing outliers"
   ]
  },
  {
   "cell_type": "code",
   "execution_count": 46,
   "metadata": {
    "scrolled": false
   },
   "outputs": [
    {
     "data": {
      "image/png": "[encoded data removed]",
      "text/plain": [
       "<Figure size 864x1728 with 19 Axes>"
      ]
     },
     "metadata": {
      "needs_background": "light"
     },
     "output_type": "display_data"
    }
   ],
   "source": [
    "numerical_features=df.select_dtypes(include=[np.number]).columns\n",
    "collist=numerical_features.values\n",
    "ncol=3\n",
    "nrows=7\n",
    "plt.figure(figsize=(12,8*ncol))\n",
    "for i in range(0, len(collist)):\n",
    "    plt.subplot(nrows,ncol,i+1)\n",
    "    sns.boxplot(df[collist[i]],color='yellow',orient='v')\n",
    "    plt.tight_layout()"
   ]
  },
  {
   "cell_type": "markdown",
   "metadata": {},
   "source": [
    "# Encoding"
   ]
  },
  {
   "cell_type": "code",
   "execution_count": 47,
   "metadata": {},
   "outputs": [],
   "source": [
    "from sklearn.preprocessing import LabelEncoder\n",
    "LE=LabelEncoder()\n",
    "for i in df.columns:\n",
    "    if df[i].dtypes=='object':\n",
    "        df[i]=LE.fit_transform(df[i])"
   ]
  },
  {
   "cell_type": "code",
   "execution_count": 48,
   "metadata": {},
   "outputs": [
    {
     "data": {
      "text/html": [
       "<div>\n",
       "<style scoped>\n",
       "    .dataframe tbody tr th:only-of-type {\n",
       "        vertical-align: middle;\n",
       "    }\n",
       "\n",
       "    .dataframe tbody tr th {\n",
       "        vertical-align: top;\n",
       "    }\n",
       "\n",
       "    .dataframe thead th {\n",
       "        text-align: right;\n",
       "    }\n",
       "</style>\n",
       "<table border=\"1\" class=\"dataframe\">\n",
       "  <thead>\n",
       "    <tr style=\"text-align: right;\">\n",
       "      <th></th>\n",
       "      <th>months_as_customer</th>\n",
       "      <th>age</th>\n",
       "      <th>policy_state</th>\n",
       "      <th>policy_csl</th>\n",
       "      <th>policy_deductable</th>\n",
       "      <th>policy_annual_premium</th>\n",
       "      <th>umbrella_limit</th>\n",
       "      <th>insured_sex</th>\n",
       "      <th>insured_education_level</th>\n",
       "      <th>insured_occupation</th>\n",
       "      <th>insured_hobbies</th>\n",
       "      <th>insured_relationship</th>\n",
       "      <th>capital-gains</th>\n",
       "      <th>capital-loss</th>\n",
       "      <th>incident_date</th>\n",
       "      <th>incident_type</th>\n",
       "      <th>collision_type</th>\n",
       "      <th>incident_severity</th>\n",
       "      <th>authorities_contacted</th>\n",
       "      <th>incident_state</th>\n",
       "      <th>incident_city</th>\n",
       "      <th>incident_hour_of_the_day</th>\n",
       "      <th>number_of_vehicles_involved</th>\n",
       "      <th>property_damage</th>\n",
       "      <th>bodily_injuries</th>\n",
       "      <th>witnesses</th>\n",
       "      <th>police_report_available</th>\n",
       "      <th>injury_claim</th>\n",
       "      <th>property_claim</th>\n",
       "      <th>vehicle_claim</th>\n",
       "      <th>auto_make</th>\n",
       "      <th>auto_model</th>\n",
       "      <th>auto_year</th>\n",
       "      <th>fraud_reported</th>\n",
       "      <th>Year</th>\n",
       "      <th>Month</th>\n",
       "      <th>Day</th>\n",
       "    </tr>\n",
       "  </thead>\n",
       "  <tbody>\n",
       "    <tr>\n",
       "      <th>0</th>\n",
       "      <td>328</td>\n",
       "      <td>48</td>\n",
       "      <td>2</td>\n",
       "      <td>1</td>\n",
       "      <td>1000</td>\n",
       "      <td>1406.91</td>\n",
       "      <td>0</td>\n",
       "      <td>1</td>\n",
       "      <td>4</td>\n",
       "      <td>2</td>\n",
       "      <td>17</td>\n",
       "      <td>0</td>\n",
       "      <td>53300</td>\n",
       "      <td>0</td>\n",
       "      <td>49</td>\n",
       "      <td>2</td>\n",
       "      <td>2</td>\n",
       "      <td>0</td>\n",
       "      <td>4</td>\n",
       "      <td>4</td>\n",
       "      <td>1</td>\n",
       "      <td>5</td>\n",
       "      <td>1</td>\n",
       "      <td>1</td>\n",
       "      <td>1</td>\n",
       "      <td>2</td>\n",
       "      <td>1</td>\n",
       "      <td>6510</td>\n",
       "      <td>13020</td>\n",
       "      <td>52080</td>\n",
       "      <td>10</td>\n",
       "      <td>1</td>\n",
       "      <td>2004</td>\n",
       "      <td>1</td>\n",
       "      <td>2014</td>\n",
       "      <td>10</td>\n",
       "      <td>17</td>\n",
       "    </tr>\n",
       "    <tr>\n",
       "      <th>1</th>\n",
       "      <td>228</td>\n",
       "      <td>42</td>\n",
       "      <td>1</td>\n",
       "      <td>1</td>\n",
       "      <td>2000</td>\n",
       "      <td>1197.22</td>\n",
       "      <td>5000000</td>\n",
       "      <td>1</td>\n",
       "      <td>4</td>\n",
       "      <td>6</td>\n",
       "      <td>15</td>\n",
       "      <td>2</td>\n",
       "      <td>0</td>\n",
       "      <td>0</td>\n",
       "      <td>41</td>\n",
       "      <td>3</td>\n",
       "      <td>1</td>\n",
       "      <td>1</td>\n",
       "      <td>4</td>\n",
       "      <td>5</td>\n",
       "      <td>5</td>\n",
       "      <td>8</td>\n",
       "      <td>1</td>\n",
       "      <td>0</td>\n",
       "      <td>0</td>\n",
       "      <td>0</td>\n",
       "      <td>0</td>\n",
       "      <td>780</td>\n",
       "      <td>780</td>\n",
       "      <td>3510</td>\n",
       "      <td>8</td>\n",
       "      <td>12</td>\n",
       "      <td>2007</td>\n",
       "      <td>1</td>\n",
       "      <td>2006</td>\n",
       "      <td>6</td>\n",
       "      <td>27</td>\n",
       "    </tr>\n",
       "    <tr>\n",
       "      <th>2</th>\n",
       "      <td>134</td>\n",
       "      <td>29</td>\n",
       "      <td>2</td>\n",
       "      <td>0</td>\n",
       "      <td>2000</td>\n",
       "      <td>1413.14</td>\n",
       "      <td>5000000</td>\n",
       "      <td>0</td>\n",
       "      <td>6</td>\n",
       "      <td>11</td>\n",
       "      <td>2</td>\n",
       "      <td>3</td>\n",
       "      <td>35100</td>\n",
       "      <td>0</td>\n",
       "      <td>44</td>\n",
       "      <td>0</td>\n",
       "      <td>1</td>\n",
       "      <td>1</td>\n",
       "      <td>4</td>\n",
       "      <td>1</td>\n",
       "      <td>1</td>\n",
       "      <td>7</td>\n",
       "      <td>3</td>\n",
       "      <td>0</td>\n",
       "      <td>2</td>\n",
       "      <td>3</td>\n",
       "      <td>0</td>\n",
       "      <td>7700</td>\n",
       "      <td>3850</td>\n",
       "      <td>23100</td>\n",
       "      <td>4</td>\n",
       "      <td>30</td>\n",
       "      <td>2007</td>\n",
       "      <td>0</td>\n",
       "      <td>2000</td>\n",
       "      <td>6</td>\n",
       "      <td>9</td>\n",
       "    </tr>\n",
       "    <tr>\n",
       "      <th>3</th>\n",
       "      <td>256</td>\n",
       "      <td>41</td>\n",
       "      <td>0</td>\n",
       "      <td>1</td>\n",
       "      <td>2000</td>\n",
       "      <td>1415.74</td>\n",
       "      <td>6000000</td>\n",
       "      <td>0</td>\n",
       "      <td>6</td>\n",
       "      <td>1</td>\n",
       "      <td>2</td>\n",
       "      <td>4</td>\n",
       "      <td>48900</td>\n",
       "      <td>-62400</td>\n",
       "      <td>19</td>\n",
       "      <td>2</td>\n",
       "      <td>0</td>\n",
       "      <td>0</td>\n",
       "      <td>4</td>\n",
       "      <td>2</td>\n",
       "      <td>0</td>\n",
       "      <td>5</td>\n",
       "      <td>1</td>\n",
       "      <td>0</td>\n",
       "      <td>1</td>\n",
       "      <td>2</td>\n",
       "      <td>0</td>\n",
       "      <td>6340</td>\n",
       "      <td>6340</td>\n",
       "      <td>50720</td>\n",
       "      <td>3</td>\n",
       "      <td>34</td>\n",
       "      <td>2014</td>\n",
       "      <td>1</td>\n",
       "      <td>1990</td>\n",
       "      <td>5</td>\n",
       "      <td>25</td>\n",
       "    </tr>\n",
       "    <tr>\n",
       "      <th>4</th>\n",
       "      <td>228</td>\n",
       "      <td>44</td>\n",
       "      <td>0</td>\n",
       "      <td>2</td>\n",
       "      <td>1000</td>\n",
       "      <td>1583.91</td>\n",
       "      <td>6000000</td>\n",
       "      <td>1</td>\n",
       "      <td>0</td>\n",
       "      <td>11</td>\n",
       "      <td>2</td>\n",
       "      <td>4</td>\n",
       "      <td>66000</td>\n",
       "      <td>-46000</td>\n",
       "      <td>34</td>\n",
       "      <td>3</td>\n",
       "      <td>1</td>\n",
       "      <td>1</td>\n",
       "      <td>2</td>\n",
       "      <td>1</td>\n",
       "      <td>0</td>\n",
       "      <td>20</td>\n",
       "      <td>1</td>\n",
       "      <td>0</td>\n",
       "      <td>0</td>\n",
       "      <td>1</td>\n",
       "      <td>0</td>\n",
       "      <td>1300</td>\n",
       "      <td>650</td>\n",
       "      <td>4550</td>\n",
       "      <td>0</td>\n",
       "      <td>31</td>\n",
       "      <td>2009</td>\n",
       "      <td>0</td>\n",
       "      <td>2014</td>\n",
       "      <td>6</td>\n",
       "      <td>6</td>\n",
       "    </tr>\n",
       "  </tbody>\n",
       "</table>\n",
       "</div>"
      ],
      "text/plain": [
       "   months_as_customer  age  policy_state  policy_csl  policy_deductable  \\\n",
       "0                 328   48             2           1               1000   \n",
       "1                 228   42             1           1               2000   \n",
       "2                 134   29             2           0               2000   \n",
       "3                 256   41             0           1               2000   \n",
       "4                 228   44             0           2               1000   \n",
       "\n",
       "   policy_annual_premium  umbrella_limit  insured_sex  \\\n",
       "0                1406.91               0            1   \n",
       "1                1197.22         5000000            1   \n",
       "2                1413.14         5000000            0   \n",
       "3                1415.74         6000000            0   \n",
       "4                1583.91         6000000            1   \n",
       "\n",
       "   insured_education_level  insured_occupation  insured_hobbies  \\\n",
       "0                        4                   2               17   \n",
       "1                        4                   6               15   \n",
       "2                        6                  11                2   \n",
       "3                        6                   1                2   \n",
       "4                        0                  11                2   \n",
       "\n",
       "   insured_relationship  capital-gains  capital-loss  incident_date  \\\n",
       "0                     0          53300             0             49   \n",
       "1                     2              0             0             41   \n",
       "2                     3          35100             0             44   \n",
       "3                     4          48900        -62400             19   \n",
       "4                     4          66000        -46000             34   \n",
       "\n",
       "   incident_type  collision_type  incident_severity  authorities_contacted  \\\n",
       "0              2               2                  0                      4   \n",
       "1              3               1                  1                      4   \n",
       "2              0               1                  1                      4   \n",
       "3              2               0                  0                      4   \n",
       "4              3               1                  1                      2   \n",
       "\n",
       "   incident_state  incident_city  incident_hour_of_the_day  \\\n",
       "0               4              1                         5   \n",
       "1               5              5                         8   \n",
       "2               1              1                         7   \n",
       "3               2              0                         5   \n",
       "4               1              0                        20   \n",
       "\n",
       "   number_of_vehicles_involved  property_damage  bodily_injuries  witnesses  \\\n",
       "0                            1                1                1          2   \n",
       "1                            1                0                0          0   \n",
       "2                            3                0                2          3   \n",
       "3                            1                0                1          2   \n",
       "4                            1                0                0          1   \n",
       "\n",
       "   police_report_available  injury_claim  property_claim  vehicle_claim  \\\n",
       "0                        1          6510           13020          52080   \n",
       "1                        0           780             780           3510   \n",
       "2                        0          7700            3850          23100   \n",
       "3                        0          6340            6340          50720   \n",
       "4                        0          1300             650           4550   \n",
       "\n",
       "   auto_make  auto_model  auto_year  fraud_reported  Year  Month  Day  \n",
       "0         10           1       2004               1  2014     10   17  \n",
       "1          8          12       2007               1  2006      6   27  \n",
       "2          4          30       2007               0  2000      6    9  \n",
       "3          3          34       2014               1  1990      5   25  \n",
       "4          0          31       2009               0  2014      6    6  "
      ]
     },
     "execution_count": 48,
     "metadata": {},
     "output_type": "execute_result"
    }
   ],
   "source": [
    "df.head()"
   ]
  },
  {
   "cell_type": "markdown",
   "metadata": {},
   "source": [
    "# Separating x(Independent) and y(target) variable."
   ]
  },
  {
   "cell_type": "code",
   "execution_count": 49,
   "metadata": {},
   "outputs": [],
   "source": [
    "x=df.drop('fraud_reported',axis=1)\n",
    "y=df['fraud_reported']"
   ]
  },
  {
   "cell_type": "code",
   "execution_count": 50,
   "metadata": {},
   "outputs": [
    {
     "data": {
      "text/html": [
       "<div>\n",
       "<style scoped>\n",
       "    .dataframe tbody tr th:only-of-type {\n",
       "        vertical-align: middle;\n",
       "    }\n",
       "\n",
       "    .dataframe tbody tr th {\n",
       "        vertical-align: top;\n",
       "    }\n",
       "\n",
       "    .dataframe thead th {\n",
       "        text-align: right;\n",
       "    }\n",
       "</style>\n",
       "<table border=\"1\" class=\"dataframe\">\n",
       "  <thead>\n",
       "    <tr style=\"text-align: right;\">\n",
       "      <th></th>\n",
       "      <th>months_as_customer</th>\n",
       "      <th>age</th>\n",
       "      <th>policy_state</th>\n",
       "      <th>policy_csl</th>\n",
       "      <th>policy_deductable</th>\n",
       "      <th>policy_annual_premium</th>\n",
       "      <th>umbrella_limit</th>\n",
       "      <th>insured_sex</th>\n",
       "      <th>insured_education_level</th>\n",
       "      <th>insured_occupation</th>\n",
       "      <th>insured_hobbies</th>\n",
       "      <th>insured_relationship</th>\n",
       "      <th>capital-gains</th>\n",
       "      <th>capital-loss</th>\n",
       "      <th>incident_date</th>\n",
       "      <th>incident_type</th>\n",
       "      <th>collision_type</th>\n",
       "      <th>incident_severity</th>\n",
       "      <th>authorities_contacted</th>\n",
       "      <th>incident_state</th>\n",
       "      <th>incident_city</th>\n",
       "      <th>incident_hour_of_the_day</th>\n",
       "      <th>number_of_vehicles_involved</th>\n",
       "      <th>property_damage</th>\n",
       "      <th>bodily_injuries</th>\n",
       "      <th>witnesses</th>\n",
       "      <th>police_report_available</th>\n",
       "      <th>injury_claim</th>\n",
       "      <th>property_claim</th>\n",
       "      <th>vehicle_claim</th>\n",
       "      <th>auto_make</th>\n",
       "      <th>auto_model</th>\n",
       "      <th>auto_year</th>\n",
       "      <th>Year</th>\n",
       "      <th>Month</th>\n",
       "      <th>Day</th>\n",
       "    </tr>\n",
       "  </thead>\n",
       "  <tbody>\n",
       "    <tr>\n",
       "      <th>0</th>\n",
       "      <td>328</td>\n",
       "      <td>48</td>\n",
       "      <td>2</td>\n",
       "      <td>1</td>\n",
       "      <td>1000</td>\n",
       "      <td>1406.91</td>\n",
       "      <td>0</td>\n",
       "      <td>1</td>\n",
       "      <td>4</td>\n",
       "      <td>2</td>\n",
       "      <td>17</td>\n",
       "      <td>0</td>\n",
       "      <td>53300</td>\n",
       "      <td>0</td>\n",
       "      <td>49</td>\n",
       "      <td>2</td>\n",
       "      <td>2</td>\n",
       "      <td>0</td>\n",
       "      <td>4</td>\n",
       "      <td>4</td>\n",
       "      <td>1</td>\n",
       "      <td>5</td>\n",
       "      <td>1</td>\n",
       "      <td>1</td>\n",
       "      <td>1</td>\n",
       "      <td>2</td>\n",
       "      <td>1</td>\n",
       "      <td>6510</td>\n",
       "      <td>13020</td>\n",
       "      <td>52080</td>\n",
       "      <td>10</td>\n",
       "      <td>1</td>\n",
       "      <td>2004</td>\n",
       "      <td>2014</td>\n",
       "      <td>10</td>\n",
       "      <td>17</td>\n",
       "    </tr>\n",
       "    <tr>\n",
       "      <th>1</th>\n",
       "      <td>228</td>\n",
       "      <td>42</td>\n",
       "      <td>1</td>\n",
       "      <td>1</td>\n",
       "      <td>2000</td>\n",
       "      <td>1197.22</td>\n",
       "      <td>5000000</td>\n",
       "      <td>1</td>\n",
       "      <td>4</td>\n",
       "      <td>6</td>\n",
       "      <td>15</td>\n",
       "      <td>2</td>\n",
       "      <td>0</td>\n",
       "      <td>0</td>\n",
       "      <td>41</td>\n",
       "      <td>3</td>\n",
       "      <td>1</td>\n",
       "      <td>1</td>\n",
       "      <td>4</td>\n",
       "      <td>5</td>\n",
       "      <td>5</td>\n",
       "      <td>8</td>\n",
       "      <td>1</td>\n",
       "      <td>0</td>\n",
       "      <td>0</td>\n",
       "      <td>0</td>\n",
       "      <td>0</td>\n",
       "      <td>780</td>\n",
       "      <td>780</td>\n",
       "      <td>3510</td>\n",
       "      <td>8</td>\n",
       "      <td>12</td>\n",
       "      <td>2007</td>\n",
       "      <td>2006</td>\n",
       "      <td>6</td>\n",
       "      <td>27</td>\n",
       "    </tr>\n",
       "    <tr>\n",
       "      <th>2</th>\n",
       "      <td>134</td>\n",
       "      <td>29</td>\n",
       "      <td>2</td>\n",
       "      <td>0</td>\n",
       "      <td>2000</td>\n",
       "      <td>1413.14</td>\n",
       "      <td>5000000</td>\n",
       "      <td>0</td>\n",
       "      <td>6</td>\n",
       "      <td>11</td>\n",
       "      <td>2</td>\n",
       "      <td>3</td>\n",
       "      <td>35100</td>\n",
       "      <td>0</td>\n",
       "      <td>44</td>\n",
       "      <td>0</td>\n",
       "      <td>1</td>\n",
       "      <td>1</td>\n",
       "      <td>4</td>\n",
       "      <td>1</td>\n",
       "      <td>1</td>\n",
       "      <td>7</td>\n",
       "      <td>3</td>\n",
       "      <td>0</td>\n",
       "      <td>2</td>\n",
       "      <td>3</td>\n",
       "      <td>0</td>\n",
       "      <td>7700</td>\n",
       "      <td>3850</td>\n",
       "      <td>23100</td>\n",
       "      <td>4</td>\n",
       "      <td>30</td>\n",
       "      <td>2007</td>\n",
       "      <td>2000</td>\n",
       "      <td>6</td>\n",
       "      <td>9</td>\n",
       "    </tr>\n",
       "    <tr>\n",
       "      <th>3</th>\n",
       "      <td>256</td>\n",
       "      <td>41</td>\n",
       "      <td>0</td>\n",
       "      <td>1</td>\n",
       "      <td>2000</td>\n",
       "      <td>1415.74</td>\n",
       "      <td>6000000</td>\n",
       "      <td>0</td>\n",
       "      <td>6</td>\n",
       "      <td>1</td>\n",
       "      <td>2</td>\n",
       "      <td>4</td>\n",
       "      <td>48900</td>\n",
       "      <td>-62400</td>\n",
       "      <td>19</td>\n",
       "      <td>2</td>\n",
       "      <td>0</td>\n",
       "      <td>0</td>\n",
       "      <td>4</td>\n",
       "      <td>2</td>\n",
       "      <td>0</td>\n",
       "      <td>5</td>\n",
       "      <td>1</td>\n",
       "      <td>0</td>\n",
       "      <td>1</td>\n",
       "      <td>2</td>\n",
       "      <td>0</td>\n",
       "      <td>6340</td>\n",
       "      <td>6340</td>\n",
       "      <td>50720</td>\n",
       "      <td>3</td>\n",
       "      <td>34</td>\n",
       "      <td>2014</td>\n",
       "      <td>1990</td>\n",
       "      <td>5</td>\n",
       "      <td>25</td>\n",
       "    </tr>\n",
       "    <tr>\n",
       "      <th>4</th>\n",
       "      <td>228</td>\n",
       "      <td>44</td>\n",
       "      <td>0</td>\n",
       "      <td>2</td>\n",
       "      <td>1000</td>\n",
       "      <td>1583.91</td>\n",
       "      <td>6000000</td>\n",
       "      <td>1</td>\n",
       "      <td>0</td>\n",
       "      <td>11</td>\n",
       "      <td>2</td>\n",
       "      <td>4</td>\n",
       "      <td>66000</td>\n",
       "      <td>-46000</td>\n",
       "      <td>34</td>\n",
       "      <td>3</td>\n",
       "      <td>1</td>\n",
       "      <td>1</td>\n",
       "      <td>2</td>\n",
       "      <td>1</td>\n",
       "      <td>0</td>\n",
       "      <td>20</td>\n",
       "      <td>1</td>\n",
       "      <td>0</td>\n",
       "      <td>0</td>\n",
       "      <td>1</td>\n",
       "      <td>0</td>\n",
       "      <td>1300</td>\n",
       "      <td>650</td>\n",
       "      <td>4550</td>\n",
       "      <td>0</td>\n",
       "      <td>31</td>\n",
       "      <td>2009</td>\n",
       "      <td>2014</td>\n",
       "      <td>6</td>\n",
       "      <td>6</td>\n",
       "    </tr>\n",
       "  </tbody>\n",
       "</table>\n",
       "</div>"
      ],
      "text/plain": [
       "   months_as_customer  age  policy_state  policy_csl  policy_deductable  \\\n",
       "0                 328   48             2           1               1000   \n",
       "1                 228   42             1           1               2000   \n",
       "2                 134   29             2           0               2000   \n",
       "3                 256   41             0           1               2000   \n",
       "4                 228   44             0           2               1000   \n",
       "\n",
       "   policy_annual_premium  umbrella_limit  insured_sex  \\\n",
       "0                1406.91               0            1   \n",
       "1                1197.22         5000000            1   \n",
       "2                1413.14         5000000            0   \n",
       "3                1415.74         6000000            0   \n",
       "4                1583.91         6000000            1   \n",
       "\n",
       "   insured_education_level  insured_occupation  insured_hobbies  \\\n",
       "0                        4                   2               17   \n",
       "1                        4                   6               15   \n",
       "2                        6                  11                2   \n",
       "3                        6                   1                2   \n",
       "4                        0                  11                2   \n",
       "\n",
       "   insured_relationship  capital-gains  capital-loss  incident_date  \\\n",
       "0                     0          53300             0             49   \n",
       "1                     2              0             0             41   \n",
       "2                     3          35100             0             44   \n",
       "3                     4          48900        -62400             19   \n",
       "4                     4          66000        -46000             34   \n",
       "\n",
       "   incident_type  collision_type  incident_severity  authorities_contacted  \\\n",
       "0              2               2                  0                      4   \n",
       "1              3               1                  1                      4   \n",
       "2              0               1                  1                      4   \n",
       "3              2               0                  0                      4   \n",
       "4              3               1                  1                      2   \n",
       "\n",
       "   incident_state  incident_city  incident_hour_of_the_day  \\\n",
       "0               4              1                         5   \n",
       "1               5              5                         8   \n",
       "2               1              1                         7   \n",
       "3               2              0                         5   \n",
       "4               1              0                        20   \n",
       "\n",
       "   number_of_vehicles_involved  property_damage  bodily_injuries  witnesses  \\\n",
       "0                            1                1                1          2   \n",
       "1                            1                0                0          0   \n",
       "2                            3                0                2          3   \n",
       "3                            1                0                1          2   \n",
       "4                            1                0                0          1   \n",
       "\n",
       "   police_report_available  injury_claim  property_claim  vehicle_claim  \\\n",
       "0                        1          6510           13020          52080   \n",
       "1                        0           780             780           3510   \n",
       "2                        0          7700            3850          23100   \n",
       "3                        0          6340            6340          50720   \n",
       "4                        0          1300             650           4550   \n",
       "\n",
       "   auto_make  auto_model  auto_year  Year  Month  Day  \n",
       "0         10           1       2004  2014     10   17  \n",
       "1          8          12       2007  2006      6   27  \n",
       "2          4          30       2007  2000      6    9  \n",
       "3          3          34       2014  1990      5   25  \n",
       "4          0          31       2009  2014      6    6  "
      ]
     },
     "execution_count": 50,
     "metadata": {},
     "output_type": "execute_result"
    }
   ],
   "source": [
    "x.head()"
   ]
  },
  {
   "cell_type": "code",
   "execution_count": 51,
   "metadata": {},
   "outputs": [
    {
     "data": {
      "text/plain": [
       "0    1\n",
       "1    1\n",
       "2    0\n",
       "3    1\n",
       "4    0\n",
       "Name: fraud_reported, dtype: int32"
      ]
     },
     "execution_count": 51,
     "metadata": {},
     "output_type": "execute_result"
    }
   ],
   "source": [
    "y.head()"
   ]
  },
  {
   "cell_type": "markdown",
   "metadata": {},
   "source": [
    "# Removing Class Imbalance"
   ]
  },
  {
   "cell_type": "code",
   "execution_count": 52,
   "metadata": {},
   "outputs": [
    {
     "data": {
      "text/plain": [
       "1    753\n",
       "0    753\n",
       "Name: fraud_reported, dtype: int64"
      ]
     },
     "execution_count": 52,
     "metadata": {},
     "output_type": "execute_result"
    }
   ],
   "source": [
    "from imblearn.over_sampling import SMOTE\n",
    "SM=SMOTE()\n",
    "x_over,y_over=SM.fit_resample(x,y)\n",
    "y_over.value_counts()"
   ]
  },
  {
   "cell_type": "code",
   "execution_count": 53,
   "metadata": {},
   "outputs": [
    {
     "data": {
      "text/plain": [
       "<AxesSubplot:xlabel='fraud_reported', ylabel='count'>"
      ]
     },
     "execution_count": 53,
     "metadata": {},
     "output_type": "execute_result"
    },
    {
     "data": {
      "image/png": "[encoded data removed]",
      "text/plain": [
       "<Figure size 432x288 with 1 Axes>"
      ]
     },
     "metadata": {
      "needs_background": "light"
     },
     "output_type": "display_data"
    }
   ],
   "source": [
    "sns.countplot(y_over)"
   ]
  },
  {
   "cell_type": "markdown",
   "metadata": {},
   "source": [
    "# Checking Skewness"
   ]
  },
  {
   "cell_type": "code",
   "execution_count": 54,
   "metadata": {},
   "outputs": [
    {
     "data": {
      "text/plain": [
       "months_as_customer             0.349714\n",
       "age                            0.461505\n",
       "policy_state                   0.188708\n",
       "policy_csl                     0.335365\n",
       "policy_deductable              0.456305\n",
       "policy_annual_premium          0.043617\n",
       "umbrella_limit                 1.819961\n",
       "insured_sex                    0.455341\n",
       "insured_education_level        0.085132\n",
       "insured_occupation            -0.020511\n",
       "insured_hobbies               -0.006344\n",
       "insured_relationship           0.185483\n",
       "capital-gains                  0.490641\n",
       "capital-loss                  -0.361862\n",
       "incident_date                  0.080497\n",
       "incident_type                  0.285590\n",
       "collision_type                 0.131296\n",
       "incident_severity              0.706317\n",
       "authorities_contacted         -0.007783\n",
       "incident_state                -0.039205\n",
       "incident_city                  0.142783\n",
       "incident_hour_of_the_day      -0.043989\n",
       "number_of_vehicles_involved    0.609923\n",
       "property_damage                1.281688\n",
       "bodily_injuries                0.198392\n",
       "witnesses                      0.101133\n",
       "police_report_available        1.233524\n",
       "injury_claim                   0.203994\n",
       "property_claim                 0.349874\n",
       "vehicle_claim                 -0.813123\n",
       "auto_make                      0.030036\n",
       "auto_model                    -0.033153\n",
       "auto_year                     -0.021172\n",
       "Year                           0.135487\n",
       "Month                          0.017931\n",
       "Day                            0.006767\n",
       "dtype: float64"
      ]
     },
     "execution_count": 54,
     "metadata": {},
     "output_type": "execute_result"
    }
   ],
   "source": [
    "x_over.skew()"
   ]
  },
  {
   "cell_type": "markdown",
   "metadata": {},
   "source": [
    "# Scaling"
   ]
  },
  {
   "cell_type": "code",
   "execution_count": 55,
   "metadata": {},
   "outputs": [
    {
     "data": {
      "text/html": [
       "<div>\n",
       "<style scoped>\n",
       "    .dataframe tbody tr th:only-of-type {\n",
       "        vertical-align: middle;\n",
       "    }\n",
       "\n",
       "    .dataframe tbody tr th {\n",
       "        vertical-align: top;\n",
       "    }\n",
       "\n",
       "    .dataframe thead th {\n",
       "        text-align: right;\n",
       "    }\n",
       "</style>\n",
       "<table border=\"1\" class=\"dataframe\">\n",
       "  <thead>\n",
       "    <tr style=\"text-align: right;\">\n",
       "      <th></th>\n",
       "      <th>months_as_customer</th>\n",
       "      <th>age</th>\n",
       "      <th>policy_state</th>\n",
       "      <th>policy_csl</th>\n",
       "      <th>policy_deductable</th>\n",
       "      <th>policy_annual_premium</th>\n",
       "      <th>umbrella_limit</th>\n",
       "      <th>insured_sex</th>\n",
       "      <th>insured_education_level</th>\n",
       "      <th>insured_occupation</th>\n",
       "      <th>insured_hobbies</th>\n",
       "      <th>insured_relationship</th>\n",
       "      <th>capital-gains</th>\n",
       "      <th>capital-loss</th>\n",
       "      <th>incident_date</th>\n",
       "      <th>incident_type</th>\n",
       "      <th>collision_type</th>\n",
       "      <th>incident_severity</th>\n",
       "      <th>authorities_contacted</th>\n",
       "      <th>incident_state</th>\n",
       "      <th>incident_city</th>\n",
       "      <th>incident_hour_of_the_day</th>\n",
       "      <th>number_of_vehicles_involved</th>\n",
       "      <th>property_damage</th>\n",
       "      <th>bodily_injuries</th>\n",
       "      <th>witnesses</th>\n",
       "      <th>police_report_available</th>\n",
       "      <th>injury_claim</th>\n",
       "      <th>property_claim</th>\n",
       "      <th>vehicle_claim</th>\n",
       "      <th>auto_make</th>\n",
       "      <th>auto_model</th>\n",
       "      <th>auto_year</th>\n",
       "      <th>Year</th>\n",
       "      <th>Month</th>\n",
       "      <th>Day</th>\n",
       "    </tr>\n",
       "  </thead>\n",
       "  <tbody>\n",
       "    <tr>\n",
       "      <th>0</th>\n",
       "      <td>0.684760</td>\n",
       "      <td>0.644444</td>\n",
       "      <td>1.0</td>\n",
       "      <td>0.5</td>\n",
       "      <td>0.333333</td>\n",
       "      <td>0.603112</td>\n",
       "      <td>0.090909</td>\n",
       "      <td>1.0</td>\n",
       "      <td>0.666667</td>\n",
       "      <td>0.153846</td>\n",
       "      <td>0.894737</td>\n",
       "      <td>0.0</td>\n",
       "      <td>0.530348</td>\n",
       "      <td>1.000000</td>\n",
       "      <td>0.830508</td>\n",
       "      <td>0.666667</td>\n",
       "      <td>1.0</td>\n",
       "      <td>0.000000</td>\n",
       "      <td>1.0</td>\n",
       "      <td>0.666667</td>\n",
       "      <td>0.166667</td>\n",
       "      <td>0.217391</td>\n",
       "      <td>0.000000</td>\n",
       "      <td>1.0</td>\n",
       "      <td>0.5</td>\n",
       "      <td>0.666667</td>\n",
       "      <td>1.0</td>\n",
       "      <td>0.303497</td>\n",
       "      <td>0.550063</td>\n",
       "      <td>0.654296</td>\n",
       "      <td>0.769231</td>\n",
       "      <td>0.026316</td>\n",
       "      <td>0.45</td>\n",
       "      <td>0.96</td>\n",
       "      <td>0.818182</td>\n",
       "      <td>0.533333</td>\n",
       "    </tr>\n",
       "    <tr>\n",
       "      <th>1</th>\n",
       "      <td>0.475992</td>\n",
       "      <td>0.511111</td>\n",
       "      <td>0.5</td>\n",
       "      <td>0.5</td>\n",
       "      <td>1.000000</td>\n",
       "      <td>0.473214</td>\n",
       "      <td>0.545455</td>\n",
       "      <td>1.0</td>\n",
       "      <td>0.666667</td>\n",
       "      <td>0.461538</td>\n",
       "      <td>0.789474</td>\n",
       "      <td>0.4</td>\n",
       "      <td>0.000000</td>\n",
       "      <td>1.000000</td>\n",
       "      <td>0.694915</td>\n",
       "      <td>1.000000</td>\n",
       "      <td>0.5</td>\n",
       "      <td>0.333333</td>\n",
       "      <td>1.0</td>\n",
       "      <td>0.833333</td>\n",
       "      <td>0.833333</td>\n",
       "      <td>0.347826</td>\n",
       "      <td>0.000000</td>\n",
       "      <td>0.0</td>\n",
       "      <td>0.0</td>\n",
       "      <td>0.000000</td>\n",
       "      <td>0.0</td>\n",
       "      <td>0.036364</td>\n",
       "      <td>0.032953</td>\n",
       "      <td>0.043276</td>\n",
       "      <td>0.615385</td>\n",
       "      <td>0.315789</td>\n",
       "      <td>0.60</td>\n",
       "      <td>0.64</td>\n",
       "      <td>0.454545</td>\n",
       "      <td>0.866667</td>\n",
       "    </tr>\n",
       "    <tr>\n",
       "      <th>2</th>\n",
       "      <td>0.279749</td>\n",
       "      <td>0.222222</td>\n",
       "      <td>1.0</td>\n",
       "      <td>0.0</td>\n",
       "      <td>1.000000</td>\n",
       "      <td>0.606972</td>\n",
       "      <td>0.545455</td>\n",
       "      <td>0.0</td>\n",
       "      <td>1.000000</td>\n",
       "      <td>0.846154</td>\n",
       "      <td>0.105263</td>\n",
       "      <td>0.6</td>\n",
       "      <td>0.349254</td>\n",
       "      <td>1.000000</td>\n",
       "      <td>0.745763</td>\n",
       "      <td>0.000000</td>\n",
       "      <td>0.5</td>\n",
       "      <td>0.333333</td>\n",
       "      <td>1.0</td>\n",
       "      <td>0.166667</td>\n",
       "      <td>0.166667</td>\n",
       "      <td>0.304348</td>\n",
       "      <td>0.666667</td>\n",
       "      <td>0.0</td>\n",
       "      <td>1.0</td>\n",
       "      <td>1.000000</td>\n",
       "      <td>0.0</td>\n",
       "      <td>0.358974</td>\n",
       "      <td>0.162653</td>\n",
       "      <td>0.289722</td>\n",
       "      <td>0.307692</td>\n",
       "      <td>0.789474</td>\n",
       "      <td>0.60</td>\n",
       "      <td>0.40</td>\n",
       "      <td>0.454545</td>\n",
       "      <td>0.266667</td>\n",
       "    </tr>\n",
       "    <tr>\n",
       "      <th>3</th>\n",
       "      <td>0.534447</td>\n",
       "      <td>0.488889</td>\n",
       "      <td>0.0</td>\n",
       "      <td>0.5</td>\n",
       "      <td>1.000000</td>\n",
       "      <td>0.608582</td>\n",
       "      <td>0.636364</td>\n",
       "      <td>0.0</td>\n",
       "      <td>1.000000</td>\n",
       "      <td>0.076923</td>\n",
       "      <td>0.105263</td>\n",
       "      <td>0.8</td>\n",
       "      <td>0.486567</td>\n",
       "      <td>0.438344</td>\n",
       "      <td>0.322034</td>\n",
       "      <td>0.666667</td>\n",
       "      <td>0.0</td>\n",
       "      <td>0.000000</td>\n",
       "      <td>1.0</td>\n",
       "      <td>0.333333</td>\n",
       "      <td>0.000000</td>\n",
       "      <td>0.217391</td>\n",
       "      <td>0.000000</td>\n",
       "      <td>0.0</td>\n",
       "      <td>0.5</td>\n",
       "      <td>0.666667</td>\n",
       "      <td>0.0</td>\n",
       "      <td>0.295571</td>\n",
       "      <td>0.267850</td>\n",
       "      <td>0.637187</td>\n",
       "      <td>0.230769</td>\n",
       "      <td>0.894737</td>\n",
       "      <td>0.95</td>\n",
       "      <td>0.00</td>\n",
       "      <td>0.363636</td>\n",
       "      <td>0.800000</td>\n",
       "    </tr>\n",
       "    <tr>\n",
       "      <th>4</th>\n",
       "      <td>0.475992</td>\n",
       "      <td>0.555556</td>\n",
       "      <td>0.0</td>\n",
       "      <td>1.0</td>\n",
       "      <td>0.333333</td>\n",
       "      <td>0.712760</td>\n",
       "      <td>0.636364</td>\n",
       "      <td>1.0</td>\n",
       "      <td>0.000000</td>\n",
       "      <td>0.846154</td>\n",
       "      <td>0.105263</td>\n",
       "      <td>0.8</td>\n",
       "      <td>0.656716</td>\n",
       "      <td>0.585959</td>\n",
       "      <td>0.576271</td>\n",
       "      <td>1.000000</td>\n",
       "      <td>0.5</td>\n",
       "      <td>0.333333</td>\n",
       "      <td>0.5</td>\n",
       "      <td>0.166667</td>\n",
       "      <td>0.000000</td>\n",
       "      <td>0.869565</td>\n",
       "      <td>0.000000</td>\n",
       "      <td>0.0</td>\n",
       "      <td>0.0</td>\n",
       "      <td>0.333333</td>\n",
       "      <td>0.0</td>\n",
       "      <td>0.060606</td>\n",
       "      <td>0.027461</td>\n",
       "      <td>0.056359</td>\n",
       "      <td>0.000000</td>\n",
       "      <td>0.815789</td>\n",
       "      <td>0.70</td>\n",
       "      <td>0.96</td>\n",
       "      <td>0.454545</td>\n",
       "      <td>0.166667</td>\n",
       "    </tr>\n",
       "  </tbody>\n",
       "</table>\n",
       "</div>"
      ],
      "text/plain": [
       "   months_as_customer       age  policy_state  policy_csl  policy_deductable  \\\n",
       "0            0.684760  0.644444           1.0         0.5           0.333333   \n",
       "1            0.475992  0.511111           0.5         0.5           1.000000   \n",
       "2            0.279749  0.222222           1.0         0.0           1.000000   \n",
       "3            0.534447  0.488889           0.0         0.5           1.000000   \n",
       "4            0.475992  0.555556           0.0         1.0           0.333333   \n",
       "\n",
       "   policy_annual_premium  umbrella_limit  insured_sex  \\\n",
       "0               0.603112        0.090909          1.0   \n",
       "1               0.473214        0.545455          1.0   \n",
       "2               0.606972        0.545455          0.0   \n",
       "3               0.608582        0.636364          0.0   \n",
       "4               0.712760        0.636364          1.0   \n",
       "\n",
       "   insured_education_level  insured_occupation  insured_hobbies  \\\n",
       "0                 0.666667            0.153846         0.894737   \n",
       "1                 0.666667            0.461538         0.789474   \n",
       "2                 1.000000            0.846154         0.105263   \n",
       "3                 1.000000            0.076923         0.105263   \n",
       "4                 0.000000            0.846154         0.105263   \n",
       "\n",
       "   insured_relationship  capital-gains  capital-loss  incident_date  \\\n",
       "0                   0.0       0.530348      1.000000       0.830508   \n",
       "1                   0.4       0.000000      1.000000       0.694915   \n",
       "2                   0.6       0.349254      1.000000       0.745763   \n",
       "3                   0.8       0.486567      0.438344       0.322034   \n",
       "4                   0.8       0.656716      0.585959       0.576271   \n",
       "\n",
       "   incident_type  collision_type  incident_severity  authorities_contacted  \\\n",
       "0       0.666667             1.0           0.000000                    1.0   \n",
       "1       1.000000             0.5           0.333333                    1.0   \n",
       "2       0.000000             0.5           0.333333                    1.0   \n",
       "3       0.666667             0.0           0.000000                    1.0   \n",
       "4       1.000000             0.5           0.333333                    0.5   \n",
       "\n",
       "   incident_state  incident_city  incident_hour_of_the_day  \\\n",
       "0        0.666667       0.166667                  0.217391   \n",
       "1        0.833333       0.833333                  0.347826   \n",
       "2        0.166667       0.166667                  0.304348   \n",
       "3        0.333333       0.000000                  0.217391   \n",
       "4        0.166667       0.000000                  0.869565   \n",
       "\n",
       "   number_of_vehicles_involved  property_damage  bodily_injuries  witnesses  \\\n",
       "0                     0.000000              1.0              0.5   0.666667   \n",
       "1                     0.000000              0.0              0.0   0.000000   \n",
       "2                     0.666667              0.0              1.0   1.000000   \n",
       "3                     0.000000              0.0              0.5   0.666667   \n",
       "4                     0.000000              0.0              0.0   0.333333   \n",
       "\n",
       "   police_report_available  injury_claim  property_claim  vehicle_claim  \\\n",
       "0                      1.0      0.303497        0.550063       0.654296   \n",
       "1                      0.0      0.036364        0.032953       0.043276   \n",
       "2                      0.0      0.358974        0.162653       0.289722   \n",
       "3                      0.0      0.295571        0.267850       0.637187   \n",
       "4                      0.0      0.060606        0.027461       0.056359   \n",
       "\n",
       "   auto_make  auto_model  auto_year  Year     Month       Day  \n",
       "0   0.769231    0.026316       0.45  0.96  0.818182  0.533333  \n",
       "1   0.615385    0.315789       0.60  0.64  0.454545  0.866667  \n",
       "2   0.307692    0.789474       0.60  0.40  0.454545  0.266667  \n",
       "3   0.230769    0.894737       0.95  0.00  0.363636  0.800000  \n",
       "4   0.000000    0.815789       0.70  0.96  0.454545  0.166667  "
      ]
     },
     "execution_count": 55,
     "metadata": {},
     "output_type": "execute_result"
    }
   ],
   "source": [
    "from sklearn.preprocessing import MinMaxScaler\n",
    "scaler=MinMaxScaler()\n",
    "x_over=pd.DataFrame(scaler.fit_transform(x_over),columns=x_over.columns)\n",
    "x_over.head()"
   ]
  },
  {
   "cell_type": "markdown",
   "metadata": {},
   "source": [
    "# Finding the best random state"
   ]
  },
  {
   "cell_type": "code",
   "execution_count": 56,
   "metadata": {},
   "outputs": [
    {
     "name": "stdout",
     "output_type": "stream",
     "text": [
      "Best accuracy is:  0.8473451327433629 on Random State:  68\n"
     ]
    }
   ],
   "source": [
    "from sklearn.model_selection import train_test_split\n",
    "from sklearn.linear_model import LogisticRegression\n",
    "from sklearn.metrics import accuracy_score, confusion_matrix,classification_report\n",
    "maxAccu = 0\n",
    "maxRS = 0\n",
    "\n",
    "for i in range(1,200):\n",
    "    x_train, x_test, y_train, y_test = train_test_split(x_over, y_over, test_size=0.3, random_state=i)\n",
    "    lg = LogisticRegression()\n",
    "    lg.fit(x_train, y_train)\n",
    "    pred = lg.predict(x_test)\n",
    "    acc = accuracy_score(y_test, pred)\n",
    "    if acc > maxAccu:\n",
    "        maxAccu = acc\n",
    "        maxRS = i\n",
    "print(\"Best accuracy is: \",maxAccu,\"on Random State: \",maxRS)"
   ]
  },
  {
   "cell_type": "markdown",
   "metadata": {},
   "source": [
    "# Train Test Split"
   ]
  },
  {
   "cell_type": "code",
   "execution_count": 57,
   "metadata": {},
   "outputs": [],
   "source": [
    "x_train, x_test, y_train, y_test = train_test_split(x_over, y_over, test_size=0.3, random_state=68)"
   ]
  },
  {
   "cell_type": "markdown",
   "metadata": {},
   "source": [
    "# Model Selection"
   ]
  },
  {
   "cell_type": "code",
   "execution_count": 58,
   "metadata": {},
   "outputs": [
    {
     "name": "stdout",
     "output_type": "stream",
     "text": [
      "accuracy_score:\n",
      "0.8473451327433629\n",
      "[[185  40]\n",
      " [ 29 198]]\n",
      "              precision    recall  f1-score   support\n",
      "\n",
      "           0       0.86      0.82      0.84       225\n",
      "           1       0.83      0.87      0.85       227\n",
      "\n",
      "    accuracy                           0.85       452\n",
      "   macro avg       0.85      0.85      0.85       452\n",
      "weighted avg       0.85      0.85      0.85       452\n",
      "\n"
     ]
    }
   ],
   "source": [
    "lg=LogisticRegression()\n",
    "lg.fit(x_train,y_train)\n",
    "lg.score(x_train,y_train)\n",
    "pred=lg.predict(x_test)\n",
    "print(\"accuracy_score:\",)\n",
    "print(accuracy_score(y_test,pred))\n",
    "print(confusion_matrix(y_test,pred))\n",
    "print(classification_report(y_test,pred))"
   ]
  },
  {
   "cell_type": "code",
   "execution_count": 59,
   "metadata": {},
   "outputs": [
    {
     "name": "stdout",
     "output_type": "stream",
     "text": [
      "accuracy_score:\n",
      "0.7212389380530974\n",
      "[[109 116]\n",
      " [ 10 217]]\n",
      "              precision    recall  f1-score   support\n",
      "\n",
      "           0       0.92      0.48      0.63       225\n",
      "           1       0.65      0.96      0.77       227\n",
      "\n",
      "    accuracy                           0.72       452\n",
      "   macro avg       0.78      0.72      0.70       452\n",
      "weighted avg       0.78      0.72      0.70       452\n",
      "\n"
     ]
    }
   ],
   "source": [
    "from sklearn.neighbors import KNeighborsClassifier\n",
    "knn=KNeighborsClassifier(n_neighbors=5)\n",
    "knn.fit(x_train,y_train)\n",
    "knn.score(x_train,y_train)\n",
    "predknn=knn.predict(x_test)\n",
    "print(\"accuracy_score:\",)\n",
    "print(accuracy_score(y_test,predknn))\n",
    "print(confusion_matrix(y_test,predknn))\n",
    "print(classification_report(y_test,predknn))"
   ]
  },
  {
   "cell_type": "code",
   "execution_count": 60,
   "metadata": {},
   "outputs": [
    {
     "name": "stdout",
     "output_type": "stream",
     "text": [
      "accuracy_score:\n",
      "0.7986725663716814\n",
      "[[175  50]\n",
      " [ 41 186]]\n",
      "              precision    recall  f1-score   support\n",
      "\n",
      "           0       0.81      0.78      0.79       225\n",
      "           1       0.79      0.82      0.80       227\n",
      "\n",
      "    accuracy                           0.80       452\n",
      "   macro avg       0.80      0.80      0.80       452\n",
      "weighted avg       0.80      0.80      0.80       452\n",
      "\n"
     ]
    }
   ],
   "source": [
    "from sklearn.tree import DecisionTreeClassifier\n",
    "dtc=DecisionTreeClassifier()\n",
    "dtc.fit(x_train,y_train)\n",
    "dtc.score(x_train,y_train)\n",
    "preddtc=dtc.predict(x_test)\n",
    "print(\"accuracy_score:\",)\n",
    "print(accuracy_score(y_test,preddtc))\n",
    "print(confusion_matrix(y_test,preddtc))\n",
    "print(classification_report(y_test,preddtc))"
   ]
  },
  {
   "cell_type": "markdown",
   "metadata": {},
   "source": [
    "# Ensemble technique"
   ]
  },
  {
   "cell_type": "code",
   "execution_count": 61,
   "metadata": {},
   "outputs": [
    {
     "name": "stdout",
     "output_type": "stream",
     "text": [
      "accuracy_score:\n",
      "0.8960176991150443\n",
      "[[204  21]\n",
      " [ 26 201]]\n",
      "              precision    recall  f1-score   support\n",
      "\n",
      "           0       0.89      0.91      0.90       225\n",
      "           1       0.91      0.89      0.90       227\n",
      "\n",
      "    accuracy                           0.90       452\n",
      "   macro avg       0.90      0.90      0.90       452\n",
      "weighted avg       0.90      0.90      0.90       452\n",
      "\n"
     ]
    }
   ],
   "source": [
    "from sklearn.ensemble import RandomForestClassifier\n",
    "rf=RandomForestClassifier(n_estimators=100)\n",
    "rf.fit(x_train,y_train)\n",
    "rf.score(x_train,y_train)\n",
    "pred=rf.predict(x_test)\n",
    "print(\"accuracy_score:\",)\n",
    "print(accuracy_score(y_test,pred))\n",
    "print(confusion_matrix(y_test,pred))\n",
    "print(classification_report(y_test,pred))"
   ]
  },
  {
   "cell_type": "code",
   "execution_count": 62,
   "metadata": {},
   "outputs": [
    {
     "name": "stdout",
     "output_type": "stream",
     "text": [
      "accuracy_score:\n",
      "0.8473451327433629\n",
      "[[195  30]\n",
      " [ 39 188]]\n",
      "              precision    recall  f1-score   support\n",
      "\n",
      "           0       0.83      0.87      0.85       225\n",
      "           1       0.86      0.83      0.84       227\n",
      "\n",
      "    accuracy                           0.85       452\n",
      "   macro avg       0.85      0.85      0.85       452\n",
      "weighted avg       0.85      0.85      0.85       452\n",
      "\n"
     ]
    }
   ],
   "source": [
    "from sklearn.ensemble import AdaBoostClassifier\n",
    "ad=AdaBoostClassifier(n_estimators=100)\n",
    "ad.fit(x_train,y_train)\n",
    "ad.score(x_train,y_train)\n",
    "pred=ad.predict(x_test)\n",
    "print(\"accuracy_score:\",)\n",
    "print(accuracy_score(y_test,pred))\n",
    "print(confusion_matrix(y_test,pred))\n",
    "print(classification_report(y_test,pred))"
   ]
  },
  {
   "cell_type": "markdown",
   "metadata": {},
   "source": [
    "# Cross Validation"
   ]
  },
  {
   "cell_type": "code",
   "execution_count": 63,
   "metadata": {},
   "outputs": [
    {
     "name": "stdout",
     "output_type": "stream",
     "text": [
      "[0.75  0.75  0.73  0.755 0.755]\n",
      "0.748\n"
     ]
    }
   ],
   "source": [
    "from sklearn.model_selection import cross_val_score\n",
    "score=cross_val_score(lg,x,y,cv=5)\n",
    "print(score)\n",
    "print(score.mean())"
   ]
  },
  {
   "cell_type": "code",
   "execution_count": 64,
   "metadata": {},
   "outputs": [
    {
     "name": "stdout",
     "output_type": "stream",
     "text": [
      "[0.745 0.685 0.67  0.675 0.695]\n",
      "0.6940000000000001\n"
     ]
    }
   ],
   "source": [
    "from sklearn.model_selection import cross_val_score\n",
    "score=cross_val_score(knn,x,y,cv=5)\n",
    "print(score)\n",
    "print(score.mean())"
   ]
  },
  {
   "cell_type": "code",
   "execution_count": 65,
   "metadata": {},
   "outputs": [
    {
     "name": "stdout",
     "output_type": "stream",
     "text": [
      "[0.735 0.82  0.765 0.765 0.78 ]\n",
      "0.773\n"
     ]
    }
   ],
   "source": [
    "from sklearn.model_selection import cross_val_score\n",
    "score=cross_val_score(dtc,x,y,cv=5)\n",
    "print(score)\n",
    "print(score.mean())"
   ]
  },
  {
   "cell_type": "code",
   "execution_count": 66,
   "metadata": {},
   "outputs": [
    {
     "name": "stdout",
     "output_type": "stream",
     "text": [
      "[0.785 0.735 0.73  0.795 0.77 ]\n",
      "0.763\n"
     ]
    }
   ],
   "source": [
    "from sklearn.model_selection import cross_val_score\n",
    "score=cross_val_score(rf,x,y,cv=5)\n",
    "print(score)\n",
    "print(score.mean())\n",
    "scorerf=score.mean()"
   ]
  },
  {
   "cell_type": "code",
   "execution_count": 67,
   "metadata": {},
   "outputs": [
    {
     "name": "stdout",
     "output_type": "stream",
     "text": [
      "[0.755 0.755 0.73  0.83  0.83 ]\n",
      "0.78\n"
     ]
    }
   ],
   "source": [
    "from sklearn.model_selection import cross_val_score\n",
    "score=cross_val_score(ad,x,y,cv=5)\n",
    "print(score)\n",
    "print(score.mean())"
   ]
  },
  {
   "cell_type": "markdown",
   "metadata": {},
   "source": [
    "### As the least difference between accuracy and cross validation score is for DecisionTreeClassifier it is our best model."
   ]
  },
  {
   "cell_type": "markdown",
   "metadata": {},
   "source": [
    "# Hyperparameter Tuning"
   ]
  },
  {
   "cell_type": "code",
   "execution_count": 68,
   "metadata": {},
   "outputs": [
    {
     "data": {
      "text/plain": [
       "{'max_depth': 4,\n",
       " 'min_samples_leaf': 7,\n",
       " 'min_samples_split': 2,\n",
       " 'splitter': 'best'}"
      ]
     },
     "execution_count": 68,
     "metadata": {},
     "output_type": "execute_result"
    }
   ],
   "source": [
    "from sklearn.model_selection import GridSearchCV\n",
    "parameter={'splitter':['best', 'random'],'max_depth':list(np.arange(1,10)),\n",
    "            'min_samples_split':list(np.arange(1,11)),'min_samples_leaf':list(np.arange(1,10))}\n",
    "GCV=GridSearchCV(DecisionTreeClassifier(),parameter,cv=5)\n",
    "GCV.fit(x_train,y_train)\n",
    "GCV.best_params_"
   ]
  },
  {
   "cell_type": "code",
   "execution_count": 69,
   "metadata": {},
   "outputs": [
    {
     "name": "stdout",
     "output_type": "stream",
     "text": [
      "86.50442477876106\n"
     ]
    }
   ],
   "source": [
    "Final_mod=DecisionTreeClassifier(max_depth=4,min_samples_leaf=7,min_samples_split=2,splitter='best')\n",
    "Final_mod.fit(x_train,y_train)\n",
    "pred=Final_mod.predict(x_test)\n",
    "acc=accuracy_score(y_test,pred)\n",
    "print(acc*100)"
   ]
  },
  {
   "cell_type": "markdown",
   "metadata": {},
   "source": [
    "# AUC-ROC CURVE"
   ]
  },
  {
   "cell_type": "code",
   "execution_count": 70,
   "metadata": {},
   "outputs": [
    {
     "data": {
      "image/png": "[encoded data removed]",
      "text/plain": [
       "<Figure size 432x288 with 1 Axes>"
      ]
     },
     "metadata": {
      "needs_background": "light"
     },
     "output_type": "display_data"
    },
    {
     "data": {
      "text/plain": [
       "0.7985805188448362"
      ]
     },
     "execution_count": 70,
     "metadata": {},
     "output_type": "execute_result"
    }
   ],
   "source": [
    "from sklearn.metrics import roc_curve\n",
    "from sklearn.metrics import roc_auc_score\n",
    "y_pred_prob=dtc.predict_proba(x_test)[:,1]\n",
    "fpr,tpr,thresholds=roc_curve(y_test,y_pred_prob)\n",
    "plt.plot([0,1],[0,1],'k--')\n",
    "plt.plot(fpr,tpr,label='DecisionTreeClassifier')\n",
    "plt.xlabel('False positive rate')\n",
    "plt.ylabel('True positive rate')\n",
    "plt.title('DecisionTreeClassifier')\n",
    "plt.show()\n",
    "auc_score=roc_auc_score(y_test,dtc.predict(x_test))\n",
    "auc_score"
   ]
  },
  {
   "cell_type": "markdown",
   "metadata": {},
   "source": [
    "# Saving the model"
   ]
  },
  {
   "cell_type": "code",
   "execution_count": 71,
   "metadata": {},
   "outputs": [
    {
     "data": {
      "text/plain": [
       "['dtcfile.obj']"
      ]
     },
     "execution_count": 71,
     "metadata": {},
     "output_type": "execute_result"
    }
   ],
   "source": [
    "import joblib\n",
    "joblib.dump(dtc,'dtcfile.obj')"
   ]
  },
  {
   "cell_type": "markdown",
   "metadata": {},
   "source": [
    "# Prediction"
   ]
  },
  {
   "cell_type": "code",
   "execution_count": 72,
   "metadata": {},
   "outputs": [],
   "source": [
    "dtc_from_joblib=joblib.load('dtcfile.obj')"
   ]
  },
  {
   "cell_type": "code",
   "execution_count": 73,
   "metadata": {},
   "outputs": [
    {
     "data": {
      "text/plain": [
       "array([1, 0, 0, 1, 1, 1, 1, 0, 0, 0, 0, 1, 1, 1, 1, 1, 0, 1, 1, 1, 0, 0,\n",
       "       0, 1, 1, 0, 1, 1, 1, 1, 1, 1, 0, 1, 1, 0, 1, 0, 0, 1, 0, 0, 0, 1,\n",
       "       1, 0, 0, 0, 1, 1, 0, 1, 0, 1, 0, 1, 1, 1, 0, 0, 1, 0, 0, 0, 0, 0,\n",
       "       1, 1, 0, 1, 1, 1, 1, 1, 1, 1, 0, 0, 1, 0, 0, 0, 0, 0, 1, 0, 0, 1,\n",
       "       1, 1, 1, 1, 1, 1, 0, 1, 1, 1, 1, 0, 0, 0, 0, 1, 1, 1, 1, 1, 0, 0,\n",
       "       0, 1, 0, 0, 1, 1, 1, 1, 1, 0, 0, 1, 0, 1, 0, 0, 0, 1, 0, 1, 0, 1,\n",
       "       1, 0, 0, 1, 0, 0, 0, 0, 0, 0, 1, 1, 0, 1, 0, 0, 0, 1, 1, 1, 0, 1,\n",
       "       1, 0, 0, 0, 0, 0, 1, 1, 0, 0, 1, 0, 1, 1, 1, 1, 1, 0, 1, 1, 1, 1,\n",
       "       1, 0, 1, 0, 0, 1, 0, 0, 1, 1, 1, 1, 1, 0, 1, 1, 1, 1, 1, 1, 0, 1,\n",
       "       0, 1, 0, 1, 1, 0, 1, 0, 1, 0, 1, 0, 1, 1, 1, 1, 1, 1, 0, 0, 1, 0,\n",
       "       0, 1, 1, 1, 0, 0, 1, 1, 0, 0, 1, 0, 0, 0, 0, 0, 1, 0, 1, 0, 0, 1,\n",
       "       1, 1, 1, 0, 1, 0, 1, 1, 0, 0, 1, 1, 1, 0, 0, 1, 1, 1, 0, 1, 1, 1,\n",
       "       1, 1, 1, 0, 1, 0, 0, 1, 1, 1, 0, 1, 1, 1, 0, 0, 1, 0, 0, 0, 1, 0,\n",
       "       1, 0, 0, 0, 0, 0, 1, 0, 0, 1, 1, 1, 0, 0, 0, 1, 0, 1, 1, 0, 0, 1,\n",
       "       0, 1, 1, 0, 0, 0, 1, 1, 1, 0, 1, 0, 0, 1, 0, 0, 1, 0, 0, 1, 1, 1,\n",
       "       1, 0, 1, 1, 0, 1, 1, 1, 0, 1, 0, 1, 0, 1, 1, 1, 0, 1, 1, 1, 1, 0,\n",
       "       0, 0, 1, 0, 0, 1, 1, 1, 1, 1, 1, 0, 0, 0, 1, 1, 1, 1, 0, 0, 0, 0,\n",
       "       1, 0, 0, 0, 0, 1, 0, 1, 1, 0, 0, 0, 0, 1, 1, 1, 1, 1, 1, 1, 1, 1,\n",
       "       1, 1, 0, 0, 0, 0, 1, 0, 1, 0, 1, 0, 1, 0, 0, 0, 0, 0, 0, 0, 0, 0,\n",
       "       1, 0, 0, 0, 0, 1, 0, 0, 1, 0, 0, 0, 0, 0, 0, 1, 1, 0, 0, 1, 0, 0,\n",
       "       1, 0, 0, 0, 0, 1, 1, 1, 1, 1, 0, 0])"
      ]
     },
     "execution_count": 73,
     "metadata": {},
     "output_type": "execute_result"
    }
   ],
   "source": [
    "dtc_from_joblib.predict(x_test)"
   ]
  },
  {
   "cell_type": "code",
   "execution_count": null,
   "metadata": {},
   "outputs": [],
   "source": []
  }
 ],
 "metadata": {
  "kernelspec": {
   "display_name": "Python 3",
   "language": "python",
   "name": "python3"
  },
  "language_info": {
   "codemirror_mode": {
    "name": "ipython",
    "version": 3
   },
   "file_extension": ".py",
   "mimetype": "text/x-python",
   "name": "python",
   "nbconvert_exporter": "python",
   "pygments_lexer": "ipython3",
   "version": "3.8.5"
  }
 },
 "nbformat": 4,
 "nbformat_minor": 4
}
